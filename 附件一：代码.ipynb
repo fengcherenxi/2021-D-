{
 "cells": [
  {
   "cell_type": "markdown",
   "metadata": {},
   "source": [
    "# 问题一无监督分类问题"
   ]
  },
  {
   "cell_type": "code",
   "execution_count": 3,
   "metadata": {
    "ExecuteTime": {
     "end_time": "2021-10-14T02:07:53.382394Z",
     "start_time": "2021-10-14T02:07:37.638887Z"
    }
   },
   "outputs": [
    {
     "data": {
      "text/html": [
       "<div>\n",
       "<style scoped>\n",
       "    .dataframe tbody tr th:only-of-type {\n",
       "        vertical-align: middle;\n",
       "    }\n",
       "\n",
       "    .dataframe tbody tr th {\n",
       "        vertical-align: top;\n",
       "    }\n",
       "\n",
       "    .dataframe thead th {\n",
       "        text-align: right;\n",
       "    }\n",
       "</style>\n",
       "<table border=\"1\" class=\"dataframe\">\n",
       "  <thead>\n",
       "    <tr style=\"text-align: right;\">\n",
       "      <th></th>\n",
       "      <th>No</th>\n",
       "      <th>652</th>\n",
       "      <th>653</th>\n",
       "      <th>654</th>\n",
       "      <th>655</th>\n",
       "      <th>656</th>\n",
       "      <th>657</th>\n",
       "      <th>658</th>\n",
       "      <th>659</th>\n",
       "      <th>660</th>\n",
       "      <th>...</th>\n",
       "      <th>3990</th>\n",
       "      <th>3991</th>\n",
       "      <th>3992</th>\n",
       "      <th>3993</th>\n",
       "      <th>3994</th>\n",
       "      <th>3995</th>\n",
       "      <th>3996</th>\n",
       "      <th>3997</th>\n",
       "      <th>3998</th>\n",
       "      <th>3999</th>\n",
       "    </tr>\n",
       "  </thead>\n",
       "  <tbody>\n",
       "    <tr>\n",
       "      <th>0</th>\n",
       "      <td>1</td>\n",
       "      <td>0.094196</td>\n",
       "      <td>0.094057</td>\n",
       "      <td>0.094057</td>\n",
       "      <td>0.093992</td>\n",
       "      <td>0.093992</td>\n",
       "      <td>0.093986</td>\n",
       "      <td>0.093986</td>\n",
       "      <td>0.094197</td>\n",
       "      <td>0.094197</td>\n",
       "      <td>...</td>\n",
       "      <td>0.009897</td>\n",
       "      <td>0.009897</td>\n",
       "      <td>0.009897</td>\n",
       "      <td>0.009896</td>\n",
       "      <td>0.009896</td>\n",
       "      <td>0.009894</td>\n",
       "      <td>0.009894</td>\n",
       "      <td>0.009885</td>\n",
       "      <td>0.009885</td>\n",
       "      <td>0.009856</td>\n",
       "    </tr>\n",
       "    <tr>\n",
       "      <th>1</th>\n",
       "      <td>2</td>\n",
       "      <td>0.106043</td>\n",
       "      <td>0.105832</td>\n",
       "      <td>0.105832</td>\n",
       "      <td>0.105599</td>\n",
       "      <td>0.105599</td>\n",
       "      <td>0.105454</td>\n",
       "      <td>0.105454</td>\n",
       "      <td>0.105452</td>\n",
       "      <td>0.105452</td>\n",
       "      <td>...</td>\n",
       "      <td>0.017432</td>\n",
       "      <td>0.017448</td>\n",
       "      <td>0.017448</td>\n",
       "      <td>0.017450</td>\n",
       "      <td>0.017450</td>\n",
       "      <td>0.017443</td>\n",
       "      <td>0.017443</td>\n",
       "      <td>0.017430</td>\n",
       "      <td>0.017430</td>\n",
       "      <td>0.017420</td>\n",
       "    </tr>\n",
       "    <tr>\n",
       "      <th>2</th>\n",
       "      <td>3</td>\n",
       "      <td>0.272430</td>\n",
       "      <td>0.272049</td>\n",
       "      <td>0.272049</td>\n",
       "      <td>0.271811</td>\n",
       "      <td>0.271811</td>\n",
       "      <td>0.271008</td>\n",
       "      <td>0.271008</td>\n",
       "      <td>0.270318</td>\n",
       "      <td>0.270318</td>\n",
       "      <td>...</td>\n",
       "      <td>0.005559</td>\n",
       "      <td>0.005553</td>\n",
       "      <td>0.005553</td>\n",
       "      <td>0.005531</td>\n",
       "      <td>0.005531</td>\n",
       "      <td>0.005654</td>\n",
       "      <td>0.005654</td>\n",
       "      <td>0.005604</td>\n",
       "      <td>0.005604</td>\n",
       "      <td>0.005553</td>\n",
       "    </tr>\n",
       "    <tr>\n",
       "      <th>3</th>\n",
       "      <td>4</td>\n",
       "      <td>0.074814</td>\n",
       "      <td>0.074756</td>\n",
       "      <td>0.074756</td>\n",
       "      <td>0.074743</td>\n",
       "      <td>0.074743</td>\n",
       "      <td>0.074878</td>\n",
       "      <td>0.074878</td>\n",
       "      <td>0.075135</td>\n",
       "      <td>0.075135</td>\n",
       "      <td>...</td>\n",
       "      <td>0.003315</td>\n",
       "      <td>0.003315</td>\n",
       "      <td>0.003315</td>\n",
       "      <td>0.003303</td>\n",
       "      <td>0.003303</td>\n",
       "      <td>0.003295</td>\n",
       "      <td>0.003295</td>\n",
       "      <td>0.003283</td>\n",
       "      <td>0.003283</td>\n",
       "      <td>0.003266</td>\n",
       "    </tr>\n",
       "    <tr>\n",
       "      <th>4</th>\n",
       "      <td>5</td>\n",
       "      <td>0.322213</td>\n",
       "      <td>0.319839</td>\n",
       "      <td>0.319839</td>\n",
       "      <td>0.317635</td>\n",
       "      <td>0.317635</td>\n",
       "      <td>0.316115</td>\n",
       "      <td>0.316115</td>\n",
       "      <td>0.315650</td>\n",
       "      <td>0.315650</td>\n",
       "      <td>...</td>\n",
       "      <td>0.001080</td>\n",
       "      <td>0.001064</td>\n",
       "      <td>0.001064</td>\n",
       "      <td>0.001054</td>\n",
       "      <td>0.001054</td>\n",
       "      <td>0.001043</td>\n",
       "      <td>0.001043</td>\n",
       "      <td>0.001063</td>\n",
       "      <td>0.001063</td>\n",
       "      <td>0.001061</td>\n",
       "    </tr>\n",
       "  </tbody>\n",
       "</table>\n",
       "<p>5 rows × 3349 columns</p>\n",
       "</div>"
      ],
      "text/plain": [
       "   No       652       653       654       655       656       657       658  \\\n",
       "0   1  0.094196  0.094057  0.094057  0.093992  0.093992  0.093986  0.093986   \n",
       "1   2  0.106043  0.105832  0.105832  0.105599  0.105599  0.105454  0.105454   \n",
       "2   3  0.272430  0.272049  0.272049  0.271811  0.271811  0.271008  0.271008   \n",
       "3   4  0.074814  0.074756  0.074756  0.074743  0.074743  0.074878  0.074878   \n",
       "4   5  0.322213  0.319839  0.319839  0.317635  0.317635  0.316115  0.316115   \n",
       "\n",
       "        659       660  ...      3990      3991      3992      3993      3994  \\\n",
       "0  0.094197  0.094197  ...  0.009897  0.009897  0.009897  0.009896  0.009896   \n",
       "1  0.105452  0.105452  ...  0.017432  0.017448  0.017448  0.017450  0.017450   \n",
       "2  0.270318  0.270318  ...  0.005559  0.005553  0.005553  0.005531  0.005531   \n",
       "3  0.075135  0.075135  ...  0.003315  0.003315  0.003315  0.003303  0.003303   \n",
       "4  0.315650  0.315650  ...  0.001080  0.001064  0.001064  0.001054  0.001054   \n",
       "\n",
       "       3995      3996      3997      3998      3999  \n",
       "0  0.009894  0.009894  0.009885  0.009885  0.009856  \n",
       "1  0.017443  0.017443  0.017430  0.017430  0.017420  \n",
       "2  0.005654  0.005654  0.005604  0.005604  0.005553  \n",
       "3  0.003295  0.003295  0.003283  0.003283  0.003266  \n",
       "4  0.001043  0.001043  0.001063  0.001063  0.001061  \n",
       "\n",
       "[5 rows x 3349 columns]"
      ]
     },
     "execution_count": 3,
     "metadata": {},
     "output_type": "execute_result"
    }
   ],
   "source": [
    "import pandas as pd\n",
    "import os\n",
    "csv_path = os.path.join(\"附件1.xlsx\")\n",
    "d = pd.read_excel(csv_path)\n",
    "d.head()"
   ]
  },
  {
   "cell_type": "code",
   "execution_count": 36,
   "metadata": {
    "ExecuteTime": {
     "end_time": "2021-10-14T02:26:41.777165Z",
     "start_time": "2021-10-14T02:26:41.465545Z"
    }
   },
   "outputs": [
    {
     "data": {
      "text/plain": [
       "(425, 3348)"
      ]
     },
     "execution_count": 36,
     "metadata": {},
     "output_type": "execute_result"
    }
   ],
   "source": [
    "%matplotlib inline\n",
    "name=list(d[0:0])[1:]# 特征的名字\n",
    "# 数据集\n",
    "A=[]\n",
    "for i in name:\n",
    "    a=d[i]\n",
    "    a=list(a)\n",
    "    A.append(a)\n",
    "import numpy as np\n",
    "X=np.transpose(np.array(A))\n",
    "X.shape"
   ]
  },
  {
   "cell_type": "code",
   "execution_count": 44,
   "metadata": {
    "ExecuteTime": {
     "end_time": "2021-10-14T02:28:16.624881Z",
     "start_time": "2021-10-14T02:28:16.444876Z"
    }
   },
   "outputs": [
    {
     "name": "stdout",
     "output_type": "stream",
     "text": [
      "Original shape: (425, 3348)\n",
      "Reduced shape: (425, 20)\n"
     ]
    }
   ],
   "source": [
    "# 尝试PCA降到二维直观表示数据\n",
    "from sklearn.decomposition import PCA\n",
    "from sklearn.preprocessing import MinMaxScaler\n",
    "%matplotlib inline\n",
    "# 保留前两个特征向量\n",
    "scaler = MinMaxScaler().fit(X)\n",
    "X1_scaled = scaler.transform(X)\n",
    "pca = PCA(n_components=20).fit(X1_scaled)\n",
    "\n",
    "# transform data onto the first two principal components\n",
    "X1_pca = pca.transform(X1_scaled)\n",
    "print(\"Original shape: {}\".format(str(X1_scaled.shape)))\n",
    "print(\"Reduced shape: {}\".format(str(X1_pca.shape)))"
   ]
  },
  {
   "cell_type": "code",
   "execution_count": 197,
   "metadata": {
    "ExecuteTime": {
     "end_time": "2021-10-14T03:35:37.566018Z",
     "start_time": "2021-10-14T03:35:37.417919Z"
    }
   },
   "outputs": [
    {
     "data": {
      "text/plain": [
       "KMeans(n_clusters=7)"
      ]
     },
     "execution_count": 197,
     "metadata": {},
     "output_type": "execute_result"
    }
   ],
   "source": [
    "from sklearn.cluster import KMeans\n",
    "kmeans = KMeans(n_clusters=7)\n",
    "kmeans.fit(X1_pca)"
   ]
  },
  {
   "cell_type": "code",
   "execution_count": 198,
   "metadata": {
    "ExecuteTime": {
     "end_time": "2021-10-14T03:35:40.887615Z",
     "start_time": "2021-10-14T03:35:40.879156Z"
    }
   },
   "outputs": [],
   "source": [
    "label = list(kmeans.labels_)"
   ]
  },
  {
   "cell_type": "code",
   "execution_count": 199,
   "metadata": {
    "ExecuteTime": {
     "end_time": "2021-10-14T03:35:45.460262Z",
     "start_time": "2021-10-14T03:35:45.443159Z"
    }
   },
   "outputs": [],
   "source": [
    "l0=label.index(0)\n",
    "l1=label.index(1)\n",
    "l2=label.index(2)\n",
    "l3=label.index(3)\n",
    "l4=label.index(4)\n",
    "l5=label.index(5)\n",
    "l6=label.index(6)"
   ]
  },
  {
   "cell_type": "code",
   "execution_count": 200,
   "metadata": {
    "ExecuteTime": {
     "end_time": "2021-10-14T03:35:50.947187Z",
     "start_time": "2021-10-14T03:35:48.840785Z"
    },
    "scrolled": false
   },
   "outputs": [],
   "source": [
    "A=[]\n",
    "for i in range(425):\n",
    "    A.append(list(d.loc[i]))"
   ]
  },
  {
   "cell_type": "code",
   "execution_count": 203,
   "metadata": {
    "ExecuteTime": {
     "end_time": "2021-10-14T03:37:56.308741Z",
     "start_time": "2021-10-14T03:37:48.541923Z"
    }
   },
   "outputs": [
    {
     "name": "stderr",
     "output_type": "stream",
     "text": [
      "/Users/yangjie/anaconda3/lib/python3.6/site-packages/matplotlib/font_manager.py:1328: UserWarning: findfont: Font family ['sans-serif'] not found. Falling back to DejaVu Sans\n",
      "  (prop.get_family(), self.defaultFamily[fontext]))\n"
     ]
    },
    {
     "data": {
      "image/png": "[encoded data removed]",
      "text/plain": [
       "<Figure size 432x288 with 1 Axes>"
      ]
     },
     "metadata": {},
     "output_type": "display_data"
    }
   ],
   "source": [
    "for i in range(425):\n",
    "    if label[i]==0:\n",
    "        plt.plot(name,A[i][1:],'-r')\n",
    "    if label[i]==1:\n",
    "        plt.plot(name,A[i][1:],'-g')\n",
    "    if label[i]==2:\n",
    "        plt.plot(name,A[i][1:],'-b')\n",
    "    if label[i]==3:\n",
    "        plt.plot(name,A[i][1:],'black')\n",
    "    if label[i]==4:\n",
    "        plt.plot(name,A[i][1:],'-y')\n",
    "    if label[i]==5:\n",
    "        plt.plot(name,A[i][1:],'aqua')\n",
    "    if label[i]==6:\n",
    "        plt.plot(name,A[i][1:],'chartreuse')\n",
    "plt.plot(name,A[l0][1:],'-r',label='1')\n",
    "plt.plot(name,A[l1][1:],'-g',label='2')\n",
    "plt.plot(name,A[l2][1:],'-b',label='3')\n",
    "plt.plot(name,A[l3][1:],'black',label='4')\n",
    "plt.plot(name,A[l4][1:],'-y',label='5')\n",
    "plt.plot(name,A[l5][1:],'aqua',label='6')\n",
    "plt.plot(name,A[l6][1:],'chartreuse',label='7')\n",
    "plt.legend()#指明要绘制图例见右上角\n",
    "plt.show()"
   ]
  },
  {
   "cell_type": "code",
   "execution_count": 207,
   "metadata": {
    "ExecuteTime": {
     "end_time": "2021-10-14T03:41:32.360481Z",
     "start_time": "2021-10-14T03:41:31.208838Z"
    }
   },
   "outputs": [
    {
     "name": "stderr",
     "output_type": "stream",
     "text": [
      "/Users/yangjie/anaconda3/lib/python3.6/site-packages/matplotlib/font_manager.py:1328: UserWarning: findfont: Font family ['sans-serif'] not found. Falling back to DejaVu Sans\n",
      "  (prop.get_family(), self.defaultFamily[fontext]))\n"
     ]
    },
    {
     "data": {
      "image/png": "[encoded data removed]",
      "text/plain": [
       "<Figure size 432x288 with 1 Axes>"
      ]
     },
     "metadata": {},
     "output_type": "display_data"
    }
   ],
   "source": [
    "SSE = []\n",
    "for i in range(1,11):\n",
    "    km = KMeans(n_clusters=i,random_state=100)\n",
    "    km.fit(X1_pca)\n",
    "        #获取K-means算法的SSE\n",
    "    SSE.append(km.inertia_)\n",
    "    #绘制曲线\n",
    "plt.plot(range(1,11),SSE,marker=\"o\")\n",
    "plt.xlabel(\"K\")\n",
    "plt.ylabel(\"SSE\")\n",
    "plt.show()"
   ]
  },
  {
   "cell_type": "code",
   "execution_count": 217,
   "metadata": {
    "ExecuteTime": {
     "end_time": "2021-10-14T03:50:13.303154Z",
     "start_time": "2021-10-14T03:50:10.902108Z"
    }
   },
   "outputs": [
    {
     "name": "stdout",
     "output_type": "stream",
     "text": [
      "[0.9171335783608763, 0.610411575373303, 0.6103124286985645, 0.5006167359865762, 0.43344398149597746, 0.4543320603078695, 0.43128079096667066, 0.4236421724470386, 0.4069373339120413, 0.42818135267524293, 0.40857032268803284, 0.4015828827834644, 0.4076196286745038, 0.39271825442770864, 0.3729322296325539, 0.37972924086989746, 0.37318742635597746, 0.37771202415232935]\n"
     ]
    },
    {
     "name": "stderr",
     "output_type": "stream",
     "text": [
      "/Users/yangjie/anaconda3/lib/python3.6/site-packages/matplotlib/font_manager.py:1328: UserWarning: findfont: Font family ['sans-serif'] not found. Falling back to DejaVu Sans\n",
      "  (prop.get_family(), self.defaultFamily[fontext]))\n"
     ]
    },
    {
     "data": {
      "image/png": "[encoded data removed]",
      "text/plain": [
       "<Figure size 432x288 with 1 Axes>"
      ]
     },
     "metadata": {},
     "output_type": "display_data"
    }
   ],
   "source": [
    "Scores = []  # 存放轮廓系数\n",
    "from sklearn.metrics import silhouette_score\n",
    "for k in range(2,20):\n",
    "    kmeans = KMeans(n_clusters=k)  # 构造聚类器\n",
    "    kmeans.fit(X1_pca)\n",
    "    Scores.append(silhouette_score(X1_pca,kmeans.labels_,metric='euclidean'))\n",
    "print(Scores)\n",
    "X = range(2,20)\n",
    "plt.xlabel('k')\n",
    "plt.ylabel('coefficient')\n",
    "plt.plot(X,Scores,'o-')\n",
    "plt.show()"
   ]
  },
  {
   "cell_type": "markdown",
   "metadata": {},
   "source": [
    "# 问题二——有监督分类问题"
   ]
  },
  {
   "cell_type": "code",
   "execution_count": 249,
   "metadata": {
    "ExecuteTime": {
     "end_time": "2021-10-14T07:06:24.084544Z",
     "start_time": "2021-10-14T07:05:58.406184Z"
    }
   },
   "outputs": [],
   "source": [
    "import pandas as pd\n",
    "import os\n",
    "csv_path = os.path.join(\"附件2.xlsx\")\n",
    "d2 = pd.read_excel(csv_path)\n",
    "d2.head()\n",
    "d3 = d2.dropna(subset=['OP'])\n"
   ]
  },
  {
   "cell_type": "code",
   "execution_count": 250,
   "metadata": {
    "ExecuteTime": {
     "end_time": "2021-10-14T07:07:06.150295Z",
     "start_time": "2021-10-14T07:06:54.135969Z"
    }
   },
   "outputs": [
    {
     "data": {
      "text/html": [
       "<div>\n",
       "<style scoped>\n",
       "    .dataframe tbody tr th:only-of-type {\n",
       "        vertical-align: middle;\n",
       "    }\n",
       "\n",
       "    .dataframe tbody tr th {\n",
       "        vertical-align: top;\n",
       "    }\n",
       "\n",
       "    .dataframe thead th {\n",
       "        text-align: right;\n",
       "    }\n",
       "</style>\n",
       "<table border=\"1\" class=\"dataframe\">\n",
       "  <thead>\n",
       "    <tr style=\"text-align: right;\">\n",
       "      <th></th>\n",
       "      <th>No</th>\n",
       "      <th>OP</th>\n",
       "      <th>551</th>\n",
       "      <th>552</th>\n",
       "      <th>553</th>\n",
       "      <th>554</th>\n",
       "      <th>555</th>\n",
       "      <th>556</th>\n",
       "      <th>557</th>\n",
       "      <th>558</th>\n",
       "      <th>...</th>\n",
       "      <th>3989</th>\n",
       "      <th>3990</th>\n",
       "      <th>3991</th>\n",
       "      <th>3992</th>\n",
       "      <th>3993</th>\n",
       "      <th>3994</th>\n",
       "      <th>3995</th>\n",
       "      <th>3996</th>\n",
       "      <th>3997</th>\n",
       "      <th>3998</th>\n",
       "    </tr>\n",
       "  </thead>\n",
       "  <tbody>\n",
       "    <tr>\n",
       "      <th>count</th>\n",
       "      <td>673.00000</td>\n",
       "      <td>658.000000</td>\n",
       "      <td>673.000000</td>\n",
       "      <td>673.000000</td>\n",
       "      <td>673.000000</td>\n",
       "      <td>673.000000</td>\n",
       "      <td>673.000000</td>\n",
       "      <td>673.000000</td>\n",
       "      <td>673.000000</td>\n",
       "      <td>673.000000</td>\n",
       "      <td>...</td>\n",
       "      <td>673.000000</td>\n",
       "      <td>673.000000</td>\n",
       "      <td>673.000000</td>\n",
       "      <td>673.000000</td>\n",
       "      <td>673.000000</td>\n",
       "      <td>673.000000</td>\n",
       "      <td>673.000000</td>\n",
       "      <td>673.000000</td>\n",
       "      <td>673.000000</td>\n",
       "      <td>673.000000</td>\n",
       "    </tr>\n",
       "    <tr>\n",
       "      <th>mean</th>\n",
       "      <td>337.00000</td>\n",
       "      <td>5.731003</td>\n",
       "      <td>0.351710</td>\n",
       "      <td>0.351710</td>\n",
       "      <td>0.351726</td>\n",
       "      <td>0.351726</td>\n",
       "      <td>0.351788</td>\n",
       "      <td>0.351788</td>\n",
       "      <td>0.351842</td>\n",
       "      <td>0.351842</td>\n",
       "      <td>...</td>\n",
       "      <td>0.064796</td>\n",
       "      <td>0.064715</td>\n",
       "      <td>0.064715</td>\n",
       "      <td>0.064626</td>\n",
       "      <td>0.064626</td>\n",
       "      <td>0.064533</td>\n",
       "      <td>0.064533</td>\n",
       "      <td>0.064443</td>\n",
       "      <td>0.064443</td>\n",
       "      <td>0.064349</td>\n",
       "    </tr>\n",
       "    <tr>\n",
       "      <th>std</th>\n",
       "      <td>194.42265</td>\n",
       "      <td>3.157795</td>\n",
       "      <td>0.082035</td>\n",
       "      <td>0.082035</td>\n",
       "      <td>0.081790</td>\n",
       "      <td>0.081790</td>\n",
       "      <td>0.081707</td>\n",
       "      <td>0.081707</td>\n",
       "      <td>0.081637</td>\n",
       "      <td>0.081637</td>\n",
       "      <td>...</td>\n",
       "      <td>0.031354</td>\n",
       "      <td>0.031350</td>\n",
       "      <td>0.031350</td>\n",
       "      <td>0.031346</td>\n",
       "      <td>0.031346</td>\n",
       "      <td>0.031334</td>\n",
       "      <td>0.031334</td>\n",
       "      <td>0.031324</td>\n",
       "      <td>0.031324</td>\n",
       "      <td>0.031319</td>\n",
       "    </tr>\n",
       "    <tr>\n",
       "      <th>min</th>\n",
       "      <td>1.00000</td>\n",
       "      <td>1.000000</td>\n",
       "      <td>0.184157</td>\n",
       "      <td>0.184157</td>\n",
       "      <td>0.184013</td>\n",
       "      <td>0.184013</td>\n",
       "      <td>0.183557</td>\n",
       "      <td>0.183557</td>\n",
       "      <td>0.183888</td>\n",
       "      <td>0.183888</td>\n",
       "      <td>...</td>\n",
       "      <td>-0.006410</td>\n",
       "      <td>-0.006452</td>\n",
       "      <td>-0.006452</td>\n",
       "      <td>-0.006535</td>\n",
       "      <td>-0.006535</td>\n",
       "      <td>-0.006620</td>\n",
       "      <td>-0.006620</td>\n",
       "      <td>-0.006676</td>\n",
       "      <td>-0.006676</td>\n",
       "      <td>-0.006753</td>\n",
       "    </tr>\n",
       "    <tr>\n",
       "      <th>25%</th>\n",
       "      <td>169.00000</td>\n",
       "      <td>3.000000</td>\n",
       "      <td>0.291075</td>\n",
       "      <td>0.291075</td>\n",
       "      <td>0.290324</td>\n",
       "      <td>0.290324</td>\n",
       "      <td>0.290505</td>\n",
       "      <td>0.290505</td>\n",
       "      <td>0.290134</td>\n",
       "      <td>0.290134</td>\n",
       "      <td>...</td>\n",
       "      <td>0.044121</td>\n",
       "      <td>0.044027</td>\n",
       "      <td>0.044027</td>\n",
       "      <td>0.044000</td>\n",
       "      <td>0.044000</td>\n",
       "      <td>0.043971</td>\n",
       "      <td>0.043971</td>\n",
       "      <td>0.043836</td>\n",
       "      <td>0.043836</td>\n",
       "      <td>0.043702</td>\n",
       "    </tr>\n",
       "    <tr>\n",
       "      <th>50%</th>\n",
       "      <td>337.00000</td>\n",
       "      <td>6.000000</td>\n",
       "      <td>0.342676</td>\n",
       "      <td>0.342676</td>\n",
       "      <td>0.342751</td>\n",
       "      <td>0.342751</td>\n",
       "      <td>0.342046</td>\n",
       "      <td>0.342046</td>\n",
       "      <td>0.342109</td>\n",
       "      <td>0.342109</td>\n",
       "      <td>...</td>\n",
       "      <td>0.062257</td>\n",
       "      <td>0.062124</td>\n",
       "      <td>0.062124</td>\n",
       "      <td>0.062033</td>\n",
       "      <td>0.062033</td>\n",
       "      <td>0.061971</td>\n",
       "      <td>0.061971</td>\n",
       "      <td>0.061928</td>\n",
       "      <td>0.061928</td>\n",
       "      <td>0.061835</td>\n",
       "    </tr>\n",
       "    <tr>\n",
       "      <th>75%</th>\n",
       "      <td>505.00000</td>\n",
       "      <td>8.000000</td>\n",
       "      <td>0.407031</td>\n",
       "      <td>0.407031</td>\n",
       "      <td>0.406899</td>\n",
       "      <td>0.406899</td>\n",
       "      <td>0.406440</td>\n",
       "      <td>0.406440</td>\n",
       "      <td>0.406364</td>\n",
       "      <td>0.406364</td>\n",
       "      <td>...</td>\n",
       "      <td>0.086191</td>\n",
       "      <td>0.086116</td>\n",
       "      <td>0.086116</td>\n",
       "      <td>0.085985</td>\n",
       "      <td>0.085985</td>\n",
       "      <td>0.085874</td>\n",
       "      <td>0.085874</td>\n",
       "      <td>0.085767</td>\n",
       "      <td>0.085767</td>\n",
       "      <td>0.085651</td>\n",
       "    </tr>\n",
       "    <tr>\n",
       "      <th>max</th>\n",
       "      <td>673.00000</td>\n",
       "      <td>11.000000</td>\n",
       "      <td>0.611261</td>\n",
       "      <td>0.611261</td>\n",
       "      <td>0.609269</td>\n",
       "      <td>0.609269</td>\n",
       "      <td>0.607656</td>\n",
       "      <td>0.607656</td>\n",
       "      <td>0.605150</td>\n",
       "      <td>0.605150</td>\n",
       "      <td>...</td>\n",
       "      <td>0.155363</td>\n",
       "      <td>0.155307</td>\n",
       "      <td>0.155307</td>\n",
       "      <td>0.155242</td>\n",
       "      <td>0.155242</td>\n",
       "      <td>0.155173</td>\n",
       "      <td>0.155173</td>\n",
       "      <td>0.155134</td>\n",
       "      <td>0.155134</td>\n",
       "      <td>0.155099</td>\n",
       "    </tr>\n",
       "  </tbody>\n",
       "</table>\n",
       "<p>8 rows × 3450 columns</p>\n",
       "</div>"
      ],
      "text/plain": [
       "              No          OP         551         552         553         554  \\\n",
       "count  673.00000  658.000000  673.000000  673.000000  673.000000  673.000000   \n",
       "mean   337.00000    5.731003    0.351710    0.351710    0.351726    0.351726   \n",
       "std    194.42265    3.157795    0.082035    0.082035    0.081790    0.081790   \n",
       "min      1.00000    1.000000    0.184157    0.184157    0.184013    0.184013   \n",
       "25%    169.00000    3.000000    0.291075    0.291075    0.290324    0.290324   \n",
       "50%    337.00000    6.000000    0.342676    0.342676    0.342751    0.342751   \n",
       "75%    505.00000    8.000000    0.407031    0.407031    0.406899    0.406899   \n",
       "max    673.00000   11.000000    0.611261    0.611261    0.609269    0.609269   \n",
       "\n",
       "              555         556         557         558  ...        3989  \\\n",
       "count  673.000000  673.000000  673.000000  673.000000  ...  673.000000   \n",
       "mean     0.351788    0.351788    0.351842    0.351842  ...    0.064796   \n",
       "std      0.081707    0.081707    0.081637    0.081637  ...    0.031354   \n",
       "min      0.183557    0.183557    0.183888    0.183888  ...   -0.006410   \n",
       "25%      0.290505    0.290505    0.290134    0.290134  ...    0.044121   \n",
       "50%      0.342046    0.342046    0.342109    0.342109  ...    0.062257   \n",
       "75%      0.406440    0.406440    0.406364    0.406364  ...    0.086191   \n",
       "max      0.607656    0.607656    0.605150    0.605150  ...    0.155363   \n",
       "\n",
       "             3990        3991        3992        3993        3994        3995  \\\n",
       "count  673.000000  673.000000  673.000000  673.000000  673.000000  673.000000   \n",
       "mean     0.064715    0.064715    0.064626    0.064626    0.064533    0.064533   \n",
       "std      0.031350    0.031350    0.031346    0.031346    0.031334    0.031334   \n",
       "min     -0.006452   -0.006452   -0.006535   -0.006535   -0.006620   -0.006620   \n",
       "25%      0.044027    0.044027    0.044000    0.044000    0.043971    0.043971   \n",
       "50%      0.062124    0.062124    0.062033    0.062033    0.061971    0.061971   \n",
       "75%      0.086116    0.086116    0.085985    0.085985    0.085874    0.085874   \n",
       "max      0.155307    0.155307    0.155242    0.155242    0.155173    0.155173   \n",
       "\n",
       "             3996        3997        3998  \n",
       "count  673.000000  673.000000  673.000000  \n",
       "mean     0.064443    0.064443    0.064349  \n",
       "std      0.031324    0.031324    0.031319  \n",
       "min     -0.006676   -0.006676   -0.006753  \n",
       "25%      0.043836    0.043836    0.043702  \n",
       "50%      0.061928    0.061928    0.061835  \n",
       "75%      0.085767    0.085767    0.085651  \n",
       "max      0.155134    0.155134    0.155099  \n",
       "\n",
       "[8 rows x 3450 columns]"
      ]
     },
     "execution_count": 250,
     "metadata": {},
     "output_type": "execute_result"
    }
   ],
   "source": [
    "d2.describe()"
   ]
  },
  {
   "cell_type": "code",
   "execution_count": 255,
   "metadata": {
    "ExecuteTime": {
     "end_time": "2021-10-14T07:07:59.203311Z",
     "start_time": "2021-10-14T07:07:59.193366Z"
    }
   },
   "outputs": [
    {
     "name": "stdout",
     "output_type": "stream",
     "text": [
      "658\n",
      "{1.0: 67, 2.0: 59, 3.0: 67, 4.0: 88, 5.0: 29, 6.0: 87, 7.0: 50, 8.0: 59, 9.0: 31, 10.0: 66, 11.0: 55}\n"
     ]
    }
   ],
   "source": [
    "B=np.array(list(d3['OP']))\n",
    "print(len(B))\n",
    "list01 = list(d3['OP'])\n",
    "set01 = set(list01) \n",
    "dict01 = {}\n",
    "for item in set01:\n",
    "    dict01.update({item:list01.count(item)})\n",
    "print(dict01)"
   ]
  },
  {
   "cell_type": "code",
   "execution_count": 843,
   "metadata": {
    "ExecuteTime": {
     "end_time": "2021-10-14T13:17:03.531044Z",
     "start_time": "2021-10-14T13:17:02.727904Z"
    }
   },
   "outputs": [
    {
     "name": "stdout",
     "output_type": "stream",
     "text": [
      "(658, 3448)\n",
      "Reduced shape: (658, 75)\n",
      "X训练集大小： (493, 75)\n",
      "X测试集大小： (165, 75)\n"
     ]
    }
   ],
   "source": [
    "name=list(d3[0:0])[2:]\n",
    "\n",
    "# 制作数据集\n",
    "A=[]\n",
    "for i in name:\n",
    "    a=d3[i]\n",
    "    a=list(a)\n",
    "    A.append(a)\n",
    "import numpy as np\n",
    "X=np.transpose(np.array(A))\n",
    "print(X.shape)\n",
    "\n",
    "# 尝试PCA降到二维直观表示数据\n",
    "from sklearn.decomposition import PCA\n",
    "from sklearn.preprocessing import MinMaxScaler\n",
    "%matplotlib inline\n",
    "# 保留前两个特征向量\n",
    "scaler = MinMaxScaler().fit(X)\n",
    "X1_scaled = scaler.transform(X)\n",
    "pca = PCA(n_components=75).fit(X1_scaled)\n",
    "\n",
    "# transform data onto the first two principal components\n",
    "X = pca.transform(X1_scaled)\n",
    "print(\"Reduced shape: {}\".format(str(X.shape)))\n",
    "\n",
    "# 制作标签集\n",
    "B=np.array(list(d3['OP']))\n",
    "B=B.astype(np.int)\n",
    "Y=B\n",
    "\n",
    "# 对数据集和标签集分割为训练集和测试集\n",
    "from sklearn.model_selection import train_test_split\n",
    "X_train, X_test, y_train, y_test= train_test_split(X, Y,test_size= 0.25,random_state=1)\n",
    "print('X训练集大小：',X_train.shape)\n",
    "print('X测试集大小：',X_test.shape)\n",
    "\n",
    "from sklearn.preprocessing import StandardScaler# 对数据做标准化处理\n",
    "scaler = StandardScaler().fit(X_train)\n",
    "X_train_scaled = scaler.transform(X_train)# 在训练集上进行归一化拟合\n",
    "X_test_scaled = scaler.transform(X_test)"
   ]
  },
  {
   "cell_type": "code",
   "execution_count": 844,
   "metadata": {
    "ExecuteTime": {
     "end_time": "2021-10-14T13:17:12.074841Z",
     "start_time": "2021-10-14T13:17:11.956183Z"
    }
   },
   "outputs": [
    {
     "name": "stdout",
     "output_type": "stream",
     "text": [
      "{1.0: 21, 2.0: 17, 3.0: 14, 4.0: 16, 5.0: 4, 6.0: 25, 7.0: 18, 8.0: 8, 9.0: 4, 10.0: 20, 11.0: 18}\n",
      "{1.0: 46, 2.0: 42, 3.0: 53, 4.0: 72, 5.0: 25, 6.0: 62, 7.0: 32, 8.0: 51, 9.0: 27, 10.0: 46, 11.0: 37}\n"
     ]
    }
   ],
   "source": [
    "list01 = list(d3['OP'])\n",
    "set01 = set(list01) \n",
    "dict01 = {}\n",
    "for item in set01:\n",
    "    dict01.update({item:list(y_test).count(item)})\n",
    "print(dict01)\n",
    "dict02 = {}\n",
    "for item in set01:\n",
    "    dict02.update({item:list(y_train).count(item)})\n",
    "print(dict02)"
   ]
  },
  {
   "cell_type": "code",
   "execution_count": 845,
   "metadata": {
    "ExecuteTime": {
     "end_time": "2021-10-14T13:17:21.357066Z",
     "start_time": "2021-10-14T13:17:20.919949Z"
    }
   },
   "outputs": [
    {
     "name": "stdout",
     "output_type": "stream",
     "text": [
      "Training set score: 0.858\n",
      "Test set score: 0.727\n"
     ]
    },
    {
     "name": "stderr",
     "output_type": "stream",
     "text": [
      "/Users/yangjie/anaconda3/lib/python3.6/site-packages/sklearn/linear_model/_logistic.py:764: ConvergenceWarning: lbfgs failed to converge (status=1):\n",
      "STOP: TOTAL NO. of ITERATIONS REACHED LIMIT.\n",
      "\n",
      "Increase the number of iterations (max_iter) or scale the data as shown in:\n",
      "    https://scikit-learn.org/stable/modules/preprocessing.html\n",
      "Please also refer to the documentation for alternative solver options:\n",
      "    https://scikit-learn.org/stable/modules/linear_model.html#logistic-regression\n",
      "  extra_warning_msg=_LOGISTIC_SOLVER_CONVERGENCE_MSG)\n",
      "/Users/yangjie/anaconda3/lib/python3.6/site-packages/sklearn/linear_model/_logistic.py:764: ConvergenceWarning: lbfgs failed to converge (status=1):\n",
      "STOP: TOTAL NO. of ITERATIONS REACHED LIMIT.\n",
      "\n",
      "Increase the number of iterations (max_iter) or scale the data as shown in:\n",
      "    https://scikit-learn.org/stable/modules/preprocessing.html\n",
      "Please also refer to the documentation for alternative solver options:\n",
      "    https://scikit-learn.org/stable/modules/linear_model.html#logistic-regression\n",
      "  extra_warning_msg=_LOGISTIC_SOLVER_CONVERGENCE_MSG)\n"
     ]
    },
    {
     "name": "stdout",
     "output_type": "stream",
     "text": [
      "Training set score: 0.939\n",
      "Test set score: 0.800\n",
      "Training set score: 0.937\n",
      "Test set score: 0.794\n"
     ]
    },
    {
     "name": "stderr",
     "output_type": "stream",
     "text": [
      "/Users/yangjie/anaconda3/lib/python3.6/site-packages/sklearn/linear_model/_logistic.py:764: ConvergenceWarning: lbfgs failed to converge (status=1):\n",
      "STOP: TOTAL NO. of ITERATIONS REACHED LIMIT.\n",
      "\n",
      "Increase the number of iterations (max_iter) or scale the data as shown in:\n",
      "    https://scikit-learn.org/stable/modules/preprocessing.html\n",
      "Please also refer to the documentation for alternative solver options:\n",
      "    https://scikit-learn.org/stable/modules/linear_model.html#logistic-regression\n",
      "  extra_warning_msg=_LOGISTIC_SOLVER_CONVERGENCE_MSG)\n"
     ]
    }
   ],
   "source": [
    "# 分类-logistc\n",
    "from sklearn.linear_model import LogisticRegression\n",
    "\n",
    "logreg = LogisticRegression().fit(X_train, y_train)# 默认C=1，C可以增大\n",
    "print(\"Training set score: {:.3f}\".format(logreg.score(X_train, y_train)))\n",
    "print(\"Test set score: {:.3f}\".format(logreg.score(X_test, y_test)))# 训练和测试很接近，有可能欠拟合\n",
    "\n",
    "logreg100 = LogisticRegression(C=100000).fit(X_train, y_train)# C=100，减弱正则化\n",
    "print(\"Training set score: {:.3f}\".format(logreg100.score(X_train, y_train)))\n",
    "print(\"Test set score: {:.3f}\".format(logreg100.score(X_test, y_test)))\n",
    "\n",
    "logreg1000 = LogisticRegression(C=10000000000).fit(X_train, y_train)\n",
    "print(\"Training set score: {:.3f}\".format(logreg1000.score(X_train, y_train)))\n",
    "print(\"Test set score: {:.3f}\".format(logreg1000.score(X_test, y_test)))"
   ]
  },
  {
   "cell_type": "code",
   "execution_count": 846,
   "metadata": {
    "ExecuteTime": {
     "end_time": "2021-10-14T13:17:31.198735Z",
     "start_time": "2021-10-14T13:17:31.075729Z"
    }
   },
   "outputs": [
    {
     "name": "stdout",
     "output_type": "stream",
     "text": [
      "Training set score: 0.937\n",
      "Test set score: 0.794\n"
     ]
    },
    {
     "name": "stderr",
     "output_type": "stream",
     "text": [
      "/Users/yangjie/anaconda3/lib/python3.6/site-packages/sklearn/linear_model/_logistic.py:764: ConvergenceWarning: lbfgs failed to converge (status=1):\n",
      "STOP: TOTAL NO. of ITERATIONS REACHED LIMIT.\n",
      "\n",
      "Increase the number of iterations (max_iter) or scale the data as shown in:\n",
      "    https://scikit-learn.org/stable/modules/preprocessing.html\n",
      "Please also refer to the documentation for alternative solver options:\n",
      "    https://scikit-learn.org/stable/modules/linear_model.html#logistic-regression\n",
      "  extra_warning_msg=_LOGISTIC_SOLVER_CONVERGENCE_MSG)\n"
     ]
    }
   ],
   "source": [
    "logreg10000 = LogisticRegression(C=10000000000000).fit(X_train, y_train)\n",
    "print(\"Training set score: {:.3f}\".format(logreg10000.score(X_train, y_train)))\n",
    "print(\"Test set score: {:.3f}\".format(logreg10000.score(X_test, y_test)))"
   ]
  },
  {
   "cell_type": "code",
   "execution_count": 847,
   "metadata": {
    "ExecuteTime": {
     "end_time": "2021-10-14T13:17:40.761916Z",
     "start_time": "2021-10-14T13:17:40.712686Z"
    }
   },
   "outputs": [
    {
     "name": "stdout",
     "output_type": "stream",
     "text": [
      "Accuracy on training set: 0.945\n",
      "Accuracy on test set: 0.461\n",
      "Feature importances:\n",
      "[0.00415024 0.         0.07772552 0.0350007  0.08642133 0.00440177\n",
      " 0.04494583 0.02290932 0.03483165 0.078842   0.05448519 0.01058796\n",
      " 0.02275713 0.00242097 0.00484194 0.0224945  0.         0.01714662\n",
      " 0.00484194 0.         0.00726291 0.         0.0411902  0.00614554\n",
      " 0.         0.         0.02008626 0.00856877 0.         0.\n",
      " 0.03096714 0.01113647 0.00617348 0.01701637 0.03668702 0.\n",
      " 0.         0.02917944 0.02241847 0.00550547 0.         0.00672492\n",
      " 0.         0.         0.02180898 0.00466261 0.03324229 0.\n",
      " 0.01776165 0.00403495 0.01678424 0.         0.01205739 0.\n",
      " 0.         0.00564893 0.00242097 0.00242097 0.00682274 0.00484194\n",
      " 0.0136608  0.         0.00242097 0.         0.00751925 0.00484194\n",
      " 0.03428689 0.00623037 0.         0.01291793 0.         0.\n",
      " 0.00322796 0.         0.00451915]\n",
      "[551, 552, 553, 554, 555, 556, 557, 558, 559, 560, 561, 562, 563, 564, 565, 566, 567, 568, 569, 570, 571, 572, 573, 574, 575, 576, 577, 578, 579, 580, 581, 582, 583, 584, 585, 586, 587, 588, 589, 589, 589, 589, 593, 594, 595, 596, 597, 598, 599, 599, 599, 599]\n"
     ]
    }
   ],
   "source": [
    "# 分类-决策树\n",
    "from sklearn.tree import DecisionTreeClassifier\n",
    "\n",
    "tree = DecisionTreeClassifier(max_depth=9,random_state=0)\n",
    "tree.fit(X_train, y_train)\n",
    "print(\"Accuracy on training set: {:.3f}\".format(tree.score(X_train, y_train)))\n",
    "print(\"Accuracy on test set: {:.3f}\".format(tree.score(X_test, y_test)))\n",
    "\n",
    "print(\"Feature importances:\")\n",
    "print(tree.feature_importances_)\n",
    "F=list(tree.feature_importances_)\n",
    "f=[]\n",
    "F.sort(reverse=1)\n",
    "for i in F:\n",
    "    if i >0:\n",
    "        a=F.index(i)\n",
    "        f.append(name[a])\n",
    "print(f)"
   ]
  },
  {
   "cell_type": "code",
   "execution_count": 848,
   "metadata": {
    "ExecuteTime": {
     "end_time": "2021-10-14T13:17:54.090682Z",
     "start_time": "2021-10-14T13:17:49.706086Z"
    }
   },
   "outputs": [
    {
     "name": "stdout",
     "output_type": "stream",
     "text": [
      "Accuracy on training set: 1.000\n",
      "Accuracy on test set: 0.933\n",
      "[555, 560, 553, 554, 561, 557, 566, 562, 556, 559, 573, 558, 579, 568, 581, 552, 588, 617, 584, 603]\n"
     ]
    }
   ],
   "source": [
    "# 分类——随机森林\n",
    "from sklearn.ensemble import RandomForestClassifier# 随机森林无效\n",
    "forest = RandomForestClassifier(n_estimators=1000, random_state=0)\n",
    "forest.fit(X_train, y_train)\n",
    "\n",
    "print(\"Accuracy on training set: {:.3f}\".format(forest.score(X_train, y_train)))\n",
    "print(\"Accuracy on test set: {:.3f}\".format(forest.score(X_test, y_test)))\n",
    "\n",
    "forest.feature_importances_\n",
    "F1=list(forest.feature_importances_)\n",
    "F=list(forest.feature_importances_)\n",
    "F.sort(reverse=1)\n",
    "\n",
    "f=[]\n",
    "for i in F[:20]:\n",
    "    a=F1.index(i)\n",
    "    f.append(name[a])\n",
    "print(f)"
   ]
  },
  {
   "cell_type": "code",
   "execution_count": 849,
   "metadata": {
    "ExecuteTime": {
     "end_time": "2021-10-14T13:18:10.762340Z",
     "start_time": "2021-10-14T13:18:03.051510Z"
    }
   },
   "outputs": [
    {
     "name": "stdout",
     "output_type": "stream",
     "text": [
      "Accuracy on training set: 1.000\n",
      "Accuracy on test set: 0.794\n",
      "[555, 560, 553, 557, 554, 561, 559, 566, 556, 568, 573, 617, 584, 563, 591, 562, 581, 558, 552, 588]\n"
     ]
    }
   ],
   "source": [
    "# 分类——梯度上升\n",
    "from sklearn.ensemble import GradientBoostingClassifier\n",
    "gbrt = GradientBoostingClassifier(random_state=0,max_depth=2)\n",
    "gbrt.fit(X_train, y_train)\n",
    "print(\"Accuracy on training set: {:.3f}\".format(gbrt.score(X_train, y_train)))\n",
    "print(\"Accuracy on test set: {:.3f}\".format(gbrt.score(X_test, y_test)))\n",
    "\n",
    "F=list(gbrt.feature_importances_)\n",
    "F1=list(gbrt.feature_importances_)\n",
    "F1.sort(reverse=1)\n",
    "f=[]\n",
    "for i in F1[:20]:\n",
    "    a=F.index(i)\n",
    "    f.append(name[a])\n",
    "print(f)"
   ]
  },
  {
   "cell_type": "code",
   "execution_count": 851,
   "metadata": {
    "ExecuteTime": {
     "end_time": "2021-10-14T13:18:28.293836Z",
     "start_time": "2021-10-14T13:18:28.159252Z"
    }
   },
   "outputs": [
    {
     "name": "stdout",
     "output_type": "stream",
     "text": [
      "Accuracy on training set: 1.000\n",
      "Accuracy on test set: 0.945\n"
     ]
    }
   ],
   "source": [
    "# 分类——支持向量机模型，对预处理敏感\n",
    "\n",
    "from sklearn.preprocessing import StandardScaler\n",
    "from sklearn.svm import SVC\n",
    "\n",
    "scaler = StandardScaler().fit(X_train)\n",
    "X_train_scaled = scaler.transform(X_train)\n",
    "X_test_scaled = scaler.transform(X_test)\n",
    "\n",
    "svc = SVC(C=200)\n",
    "svc.fit(X_train_scaled, y_train)\n",
    "print(\"Accuracy on training set: {:.3f}\".format(\n",
    "        svc.score(X_train_scaled, y_train)))\n",
    "print(\"Accuracy on test set: {:.3f}\".format(svc.score(X_test_scaled, y_test)))"
   ]
  },
  {
   "cell_type": "code",
   "execution_count": 852,
   "metadata": {
    "ExecuteTime": {
     "end_time": "2021-10-14T13:18:38.299410Z",
     "start_time": "2021-10-14T13:18:37.486920Z"
    }
   },
   "outputs": [
    {
     "name": "stdout",
     "output_type": "stream",
     "text": [
      "(658, 3448)\n",
      "Reduced shape: (658, 75)\n",
      "X训练集大小： (493, 75)\n",
      "X测试集大小： (165, 75)\n"
     ]
    }
   ],
   "source": [
    "# 制作数据集\n",
    "A=[]\n",
    "for i in name:\n",
    "    a=d3[i]\n",
    "    a=list(a)\n",
    "    A.append(a)\n",
    "import numpy as np\n",
    "X=np.transpose(np.array(A))\n",
    "print(X.shape)\n",
    "# 尝试PCA降到二维直观表示数据\n",
    "from sklearn.decomposition import PCA\n",
    "from sklearn.preprocessing import MinMaxScaler\n",
    "%matplotlib inline\n",
    "# 保留前两个特征向量\n",
    "scaler = MinMaxScaler().fit(X)\n",
    "X1_scaled = scaler.transform(X)\n",
    "pca = PCA(n_components=75).fit(X1_scaled)\n",
    "\n",
    "# transform data onto the first two principal components\n",
    "X = pca.transform(X1_scaled)\n",
    "print(\"Reduced shape: {}\".format(str(X.shape)))\n",
    "# 对数据集和标签集分割为训练集和测试集\n",
    "from sklearn.model_selection import train_test_split\n",
    "X_train, X_test, y_train, y_test= train_test_split(X, Y,random_state=1)\n",
    "print('X训练集大小：',X_train.shape)\n",
    "print('X测试集大小：',X_test.shape)"
   ]
  },
  {
   "cell_type": "code",
   "execution_count": 853,
   "metadata": {
    "ExecuteTime": {
     "end_time": "2021-10-14T13:18:47.659711Z",
     "start_time": "2021-10-14T13:18:47.500687Z"
    }
   },
   "outputs": [
    {
     "name": "stdout",
     "output_type": "stream",
     "text": [
      "0.0\n",
      "1.0\n",
      "0.9575757575757575\n"
     ]
    }
   ],
   "source": [
    "from sklearn.neural_network import MLPClassifier\n",
    "from sklearn.metrics import mean_squared_error\n",
    "\n",
    "\n",
    "scaler = StandardScaler()\n",
    "scaler.fit(X_train)\n",
    "X_train = scaler.transform(X_train)\n",
    "# 定义神经网络\n",
    "#clf = MLPClassifier(hidden_layer_sizes=(25,), random_state=0, max_iter=50,shuffle=True)\n",
    "clf= MLPClassifier(solver='lbfgs', activation='relu',alpha=1e-4,hidden_layer_sizes=(380), random_state=1,max_iter=100,verbose=10,learning_rate_init=.1)\n",
    "clf.fit(X_train, y_train)\n",
    "y_pred = clf.predict(X_train)\n",
    "mse = mean_squared_error(y_train, y_pred)\n",
    "print(mse)\n",
    "print(clf.score(X_train, y_train))\n",
    "scaler.fit(X_test)\n",
    "X_test = scaler.transform(X_test)\n",
    "y_test_pred = clf.predict(X_test)\n",
    "print(clf.score(X_test, y_test))"
   ]
  },
  {
   "cell_type": "markdown",
   "metadata": {
    "ExecuteTime": {
     "end_time": "2021-10-14T07:54:27.146560Z",
     "start_time": "2021-10-14T07:54:27.142789Z"
    }
   },
   "source": [
    "# 问题三——有监督分类问题——近红外+中红外特征"
   ]
  },
  {
   "cell_type": "code",
   "execution_count": 387,
   "metadata": {
    "ExecuteTime": {
     "end_time": "2021-10-14T08:11:26.799678Z",
     "start_time": "2021-10-14T08:11:02.378435Z"
    }
   },
   "outputs": [],
   "source": [
    "import pandas as pd\n",
    "import os\n",
    "csv_path = os.path.join(\"附件3.xlsx\")\n",
    "d4 = pd.read_excel(csv_path)\n",
    "d4.head()\n",
    "d5 = d4.dropna(subset=['OP'])"
   ]
  },
  {
   "cell_type": "code",
   "execution_count": 424,
   "metadata": {
    "ExecuteTime": {
     "end_time": "2021-10-14T08:28:13.550064Z",
     "start_time": "2021-10-14T08:28:13.514251Z"
    },
    "scrolled": true
   },
   "outputs": [
    {
     "data": {
      "text/html": [
       "<div>\n",
       "<style scoped>\n",
       "    .dataframe tbody tr th:only-of-type {\n",
       "        vertical-align: middle;\n",
       "    }\n",
       "\n",
       "    .dataframe tbody tr th {\n",
       "        vertical-align: top;\n",
       "    }\n",
       "\n",
       "    .dataframe thead th {\n",
       "        text-align: right;\n",
       "    }\n",
       "</style>\n",
       "<table border=\"1\" class=\"dataframe\">\n",
       "  <thead>\n",
       "    <tr style=\"text-align: right;\">\n",
       "      <th></th>\n",
       "      <th>No</th>\n",
       "      <th>OP</th>\n",
       "      <th>4004</th>\n",
       "      <th>4005</th>\n",
       "      <th>4006</th>\n",
       "      <th>4007</th>\n",
       "      <th>4008</th>\n",
       "      <th>4009</th>\n",
       "      <th>4010</th>\n",
       "      <th>4011</th>\n",
       "      <th>...</th>\n",
       "      <th>9991</th>\n",
       "      <th>9992</th>\n",
       "      <th>9993</th>\n",
       "      <th>9994</th>\n",
       "      <th>9995</th>\n",
       "      <th>9996</th>\n",
       "      <th>9997</th>\n",
       "      <th>9998</th>\n",
       "      <th>9999</th>\n",
       "      <th>10000</th>\n",
       "    </tr>\n",
       "  </thead>\n",
       "  <tbody>\n",
       "    <tr>\n",
       "      <th>0</th>\n",
       "      <td>1</td>\n",
       "      <td>14.0</td>\n",
       "      <td>0.869187</td>\n",
       "      <td>0.869187</td>\n",
       "      <td>0.869769</td>\n",
       "      <td>0.869769</td>\n",
       "      <td>0.869769</td>\n",
       "      <td>0.869769</td>\n",
       "      <td>0.869879</td>\n",
       "      <td>0.869879</td>\n",
       "      <td>...</td>\n",
       "      <td>0.420139</td>\n",
       "      <td>0.420166</td>\n",
       "      <td>0.420166</td>\n",
       "      <td>0.420166</td>\n",
       "      <td>0.420166</td>\n",
       "      <td>0.420397</td>\n",
       "      <td>0.420397</td>\n",
       "      <td>0.420397</td>\n",
       "      <td>0.420397</td>\n",
       "      <td>0.420764</td>\n",
       "    </tr>\n",
       "    <tr>\n",
       "      <th>1</th>\n",
       "      <td>2</td>\n",
       "      <td>13.0</td>\n",
       "      <td>0.944521</td>\n",
       "      <td>0.944521</td>\n",
       "      <td>0.944225</td>\n",
       "      <td>0.944225</td>\n",
       "      <td>0.944225</td>\n",
       "      <td>0.944225</td>\n",
       "      <td>0.943621</td>\n",
       "      <td>0.943621</td>\n",
       "      <td>...</td>\n",
       "      <td>0.382078</td>\n",
       "      <td>0.382235</td>\n",
       "      <td>0.382235</td>\n",
       "      <td>0.382235</td>\n",
       "      <td>0.382235</td>\n",
       "      <td>0.382062</td>\n",
       "      <td>0.382062</td>\n",
       "      <td>0.382062</td>\n",
       "      <td>0.382062</td>\n",
       "      <td>0.382062</td>\n",
       "    </tr>\n",
       "    <tr>\n",
       "      <th>2</th>\n",
       "      <td>3</td>\n",
       "      <td>17.0</td>\n",
       "      <td>0.959754</td>\n",
       "      <td>0.959754</td>\n",
       "      <td>0.961532</td>\n",
       "      <td>0.961532</td>\n",
       "      <td>0.961532</td>\n",
       "      <td>0.961532</td>\n",
       "      <td>0.962453</td>\n",
       "      <td>0.962453</td>\n",
       "      <td>...</td>\n",
       "      <td>0.401328</td>\n",
       "      <td>0.401451</td>\n",
       "      <td>0.401451</td>\n",
       "      <td>0.401451</td>\n",
       "      <td>0.401451</td>\n",
       "      <td>0.401349</td>\n",
       "      <td>0.401349</td>\n",
       "      <td>0.401349</td>\n",
       "      <td>0.401349</td>\n",
       "      <td>0.401360</td>\n",
       "    </tr>\n",
       "    <tr>\n",
       "      <th>4</th>\n",
       "      <td>5</td>\n",
       "      <td>16.0</td>\n",
       "      <td>0.913759</td>\n",
       "      <td>0.913759</td>\n",
       "      <td>0.915178</td>\n",
       "      <td>0.915178</td>\n",
       "      <td>0.915178</td>\n",
       "      <td>0.915178</td>\n",
       "      <td>0.915747</td>\n",
       "      <td>0.915747</td>\n",
       "      <td>...</td>\n",
       "      <td>0.416887</td>\n",
       "      <td>0.416926</td>\n",
       "      <td>0.416926</td>\n",
       "      <td>0.416926</td>\n",
       "      <td>0.416926</td>\n",
       "      <td>0.417069</td>\n",
       "      <td>0.417069</td>\n",
       "      <td>0.417069</td>\n",
       "      <td>0.417069</td>\n",
       "      <td>0.418042</td>\n",
       "    </tr>\n",
       "    <tr>\n",
       "      <th>5</th>\n",
       "      <td>6</td>\n",
       "      <td>17.0</td>\n",
       "      <td>0.949069</td>\n",
       "      <td>0.949069</td>\n",
       "      <td>0.950782</td>\n",
       "      <td>0.950782</td>\n",
       "      <td>0.950782</td>\n",
       "      <td>0.950782</td>\n",
       "      <td>0.951666</td>\n",
       "      <td>0.951666</td>\n",
       "      <td>...</td>\n",
       "      <td>0.412473</td>\n",
       "      <td>0.412570</td>\n",
       "      <td>0.412570</td>\n",
       "      <td>0.412570</td>\n",
       "      <td>0.412570</td>\n",
       "      <td>0.412635</td>\n",
       "      <td>0.412635</td>\n",
       "      <td>0.412635</td>\n",
       "      <td>0.412635</td>\n",
       "      <td>0.412939</td>\n",
       "    </tr>\n",
       "  </tbody>\n",
       "</table>\n",
       "<p>5 rows × 5998 columns</p>\n",
       "</div>"
      ],
      "text/plain": [
       "   No    OP      4004      4005      4006      4007      4008      4009  \\\n",
       "0   1  14.0  0.869187  0.869187  0.869769  0.869769  0.869769  0.869769   \n",
       "1   2  13.0  0.944521  0.944521  0.944225  0.944225  0.944225  0.944225   \n",
       "2   3  17.0  0.959754  0.959754  0.961532  0.961532  0.961532  0.961532   \n",
       "4   5  16.0  0.913759  0.913759  0.915178  0.915178  0.915178  0.915178   \n",
       "5   6  17.0  0.949069  0.949069  0.950782  0.950782  0.950782  0.950782   \n",
       "\n",
       "       4010      4011  ...      9991      9992      9993      9994      9995  \\\n",
       "0  0.869879  0.869879  ...  0.420139  0.420166  0.420166  0.420166  0.420166   \n",
       "1  0.943621  0.943621  ...  0.382078  0.382235  0.382235  0.382235  0.382235   \n",
       "2  0.962453  0.962453  ...  0.401328  0.401451  0.401451  0.401451  0.401451   \n",
       "4  0.915747  0.915747  ...  0.416887  0.416926  0.416926  0.416926  0.416926   \n",
       "5  0.951666  0.951666  ...  0.412473  0.412570  0.412570  0.412570  0.412570   \n",
       "\n",
       "       9996      9997      9998      9999     10000  \n",
       "0  0.420397  0.420397  0.420397  0.420397  0.420764  \n",
       "1  0.382062  0.382062  0.382062  0.382062  0.382062  \n",
       "2  0.401349  0.401349  0.401349  0.401349  0.401360  \n",
       "4  0.417069  0.417069  0.417069  0.417069  0.418042  \n",
       "5  0.412635  0.412635  0.412635  0.412635  0.412939  \n",
       "\n",
       "[5 rows x 5998 columns]"
      ]
     },
     "execution_count": 424,
     "metadata": {},
     "output_type": "execute_result"
    }
   ],
   "source": [
    "len(d5)\n",
    "d5.head()"
   ]
  },
  {
   "cell_type": "code",
   "execution_count": 854,
   "metadata": {
    "ExecuteTime": {
     "end_time": "2021-10-14T13:19:14.553283Z",
     "start_time": "2021-10-14T13:19:13.331127Z"
    }
   },
   "outputs": [
    {
     "name": "stdout",
     "output_type": "stream",
     "text": [
      "245\n"
     ]
    }
   ],
   "source": [
    "name = list(d5['No'])\n",
    "A=[]\n",
    "for i in name:\n",
    "    A.append(list(d5.loc[i-1]))\n",
    "print(len(A))"
   ]
  },
  {
   "cell_type": "code",
   "execution_count": 855,
   "metadata": {
    "ExecuteTime": {
     "end_time": "2021-10-14T13:19:22.076168Z",
     "start_time": "2021-10-14T13:19:22.064027Z"
    }
   },
   "outputs": [
    {
     "data": {
      "text/plain": [
       "5996"
      ]
     },
     "execution_count": 855,
     "metadata": {},
     "output_type": "execute_result"
    }
   ],
   "source": [
    "len(A[1][2:])"
   ]
  },
  {
   "cell_type": "code",
   "execution_count": 856,
   "metadata": {
    "ExecuteTime": {
     "end_time": "2021-10-14T13:19:30.523301Z",
     "start_time": "2021-10-14T13:19:30.510412Z"
    }
   },
   "outputs": [
    {
     "data": {
      "text/plain": [
       "5996"
      ]
     },
     "execution_count": 856,
     "metadata": {},
     "output_type": "execute_result"
    }
   ],
   "source": [
    "name = []\n",
    "for i in range(4004,10000):\n",
    "    name.append(i)\n",
    "len(name)"
   ]
  },
  {
   "cell_type": "code",
   "execution_count": 474,
   "metadata": {
    "ExecuteTime": {
     "end_time": "2021-10-14T09:05:38.209266Z",
     "start_time": "2021-10-14T09:05:36.140102Z"
    }
   },
   "outputs": [
    {
     "name": "stderr",
     "output_type": "stream",
     "text": [
      "/Users/yangjie/anaconda3/lib/python3.6/site-packages/matplotlib/font_manager.py:1328: UserWarning: findfont: Font family ['sans-serif'] not found. Falling back to DejaVu Sans\n",
      "  (prop.get_family(), self.defaultFamily[fontext]))\n"
     ]
    },
    {
     "data": {
      "image/png": "[encoded data removed]",
      "text/plain": [
       "<Figure size 432x288 with 1 Axes>"
      ]
     },
     "metadata": {},
     "output_type": "display_data"
    }
   ],
   "source": [
    "for i in range(245):\n",
    "    if A[i][1]==1:\n",
    "        plt.plot(name,A[i][2:],'-r')\n",
    "    elif A[i][1]==1:\n",
    "        plt.plot(name,A[i][2:],'-g')\n",
    "    elif A[i][1]==2:\n",
    "        plt.plot(name,A[i][2:],'-b')\n",
    "    elif A[i][1]==3:\n",
    "        plt.plot(name,A[i][2:],'black')\n",
    "    elif A[i][1]==4:\n",
    "        plt.plot(name,A[i][2:],'-y')\n",
    "    elif A[i][1]==5:\n",
    "        plt.plot(name,A[i][2:],'aqua')\n",
    "    elif A[i][1]==6:\n",
    "        plt.plot(name,A[i][2:],'aquamarine')\n",
    "    elif A[i][1]==7:\n",
    "        plt.plot(name,A[i][2:],'azure')\n",
    "    elif A[i][1]==8:\n",
    "        plt.plot(name,A[i][2:],'beige')\n",
    "    elif A[i][1]==9:\n",
    "        plt.plot(name,A[i][2:],'bisque')\n",
    "    elif A[i][1]==10:\n",
    "        plt.plot(name,A[i][2:],'blanchedalmond')\n",
    "    elif A[i][1]==11:\n",
    "        plt.plot(name,A[i][2:],'brown')\n",
    "    elif A[i][1]==12:\n",
    "        plt.plot(name,A[i][2:],'burlywood')\n",
    "    elif A[i][1]==13:\n",
    "        plt.plot(name,A[i][2:],'cadetblue')\n",
    "    elif A[i][1]==14:\n",
    "        plt.plot(name,A[i][2:],'chocolate')\n",
    "    elif A[i][1]==15:\n",
    "        plt.plot(name,A[i][2:],'cornflowerblue')\n",
    "    elif A[i][1]==16:\n",
    "        plt.plot(name,A[i][2:],'crimson')\n",
    "    else:\n",
    "        plt.plot(name,A[i][2:],'chartreuse')\n",
    "plt.show()"
   ]
  },
  {
   "cell_type": "code",
   "execution_count": 479,
   "metadata": {
    "ExecuteTime": {
     "end_time": "2021-10-14T09:10:37.923018Z",
     "start_time": "2021-10-14T09:10:11.785576Z"
    }
   },
   "outputs": [
    {
     "name": "stdout",
     "output_type": "stream",
     "text": [
      "255\n",
      "245\n"
     ]
    }
   ],
   "source": [
    "import pandas as pd\n",
    "import os\n",
    "csv_path = os.path.join(\"附件3-2.xlsx\")\n",
    "d4_2 = pd.read_excel(csv_path)\n",
    "d4_2.head()\n",
    "d5_2 = d4_2.dropna(subset=['OP'])\n",
    "print(len(d4_2))\n",
    "print(len(d5_2))"
   ]
  },
  {
   "cell_type": "code",
   "execution_count": 480,
   "metadata": {
    "ExecuteTime": {
     "end_time": "2021-10-14T09:10:41.657422Z",
     "start_time": "2021-10-14T09:10:41.624317Z"
    }
   },
   "outputs": [
    {
     "data": {
      "text/html": [
       "<div>\n",
       "<style scoped>\n",
       "    .dataframe tbody tr th:only-of-type {\n",
       "        vertical-align: middle;\n",
       "    }\n",
       "\n",
       "    .dataframe tbody tr th {\n",
       "        vertical-align: top;\n",
       "    }\n",
       "\n",
       "    .dataframe thead th {\n",
       "        text-align: right;\n",
       "    }\n",
       "</style>\n",
       "<table border=\"1\" class=\"dataframe\">\n",
       "  <thead>\n",
       "    <tr style=\"text-align: right;\">\n",
       "      <th></th>\n",
       "      <th>No</th>\n",
       "      <th>OP</th>\n",
       "      <th>552</th>\n",
       "      <th>553</th>\n",
       "      <th>554</th>\n",
       "      <th>555</th>\n",
       "      <th>556</th>\n",
       "      <th>557</th>\n",
       "      <th>558</th>\n",
       "      <th>559</th>\n",
       "      <th>...</th>\n",
       "      <th>9991</th>\n",
       "      <th>9992</th>\n",
       "      <th>9993</th>\n",
       "      <th>9994</th>\n",
       "      <th>9995</th>\n",
       "      <th>9996</th>\n",
       "      <th>9997</th>\n",
       "      <th>9998</th>\n",
       "      <th>9999</th>\n",
       "      <th>10000</th>\n",
       "    </tr>\n",
       "  </thead>\n",
       "  <tbody>\n",
       "    <tr>\n",
       "      <th>0</th>\n",
       "      <td>1</td>\n",
       "      <td>14.0</td>\n",
       "      <td>0.026602</td>\n",
       "      <td>0.031197</td>\n",
       "      <td>0.031197</td>\n",
       "      <td>0.034768</td>\n",
       "      <td>0.034768</td>\n",
       "      <td>0.036226</td>\n",
       "      <td>0.036226</td>\n",
       "      <td>0.037201</td>\n",
       "      <td>...</td>\n",
       "      <td>0.420139</td>\n",
       "      <td>0.420166</td>\n",
       "      <td>0.420166</td>\n",
       "      <td>0.420166</td>\n",
       "      <td>0.420166</td>\n",
       "      <td>0.420397</td>\n",
       "      <td>0.420397</td>\n",
       "      <td>0.420397</td>\n",
       "      <td>0.420397</td>\n",
       "      <td>0.420764</td>\n",
       "    </tr>\n",
       "    <tr>\n",
       "      <th>1</th>\n",
       "      <td>2</td>\n",
       "      <td>13.0</td>\n",
       "      <td>0.027282</td>\n",
       "      <td>0.033386</td>\n",
       "      <td>0.033386</td>\n",
       "      <td>0.038157</td>\n",
       "      <td>0.038157</td>\n",
       "      <td>0.040221</td>\n",
       "      <td>0.040221</td>\n",
       "      <td>0.041793</td>\n",
       "      <td>...</td>\n",
       "      <td>0.382078</td>\n",
       "      <td>0.382235</td>\n",
       "      <td>0.382235</td>\n",
       "      <td>0.382235</td>\n",
       "      <td>0.382235</td>\n",
       "      <td>0.382062</td>\n",
       "      <td>0.382062</td>\n",
       "      <td>0.382062</td>\n",
       "      <td>0.382062</td>\n",
       "      <td>0.382062</td>\n",
       "    </tr>\n",
       "    <tr>\n",
       "      <th>2</th>\n",
       "      <td>3</td>\n",
       "      <td>17.0</td>\n",
       "      <td>0.019621</td>\n",
       "      <td>0.028953</td>\n",
       "      <td>0.028953</td>\n",
       "      <td>0.036467</td>\n",
       "      <td>0.036467</td>\n",
       "      <td>0.040136</td>\n",
       "      <td>0.040136</td>\n",
       "      <td>0.042997</td>\n",
       "      <td>...</td>\n",
       "      <td>0.401328</td>\n",
       "      <td>0.401451</td>\n",
       "      <td>0.401451</td>\n",
       "      <td>0.401451</td>\n",
       "      <td>0.401451</td>\n",
       "      <td>0.401349</td>\n",
       "      <td>0.401349</td>\n",
       "      <td>0.401349</td>\n",
       "      <td>0.401349</td>\n",
       "      <td>0.401360</td>\n",
       "    </tr>\n",
       "    <tr>\n",
       "      <th>4</th>\n",
       "      <td>5</td>\n",
       "      <td>16.0</td>\n",
       "      <td>0.017975</td>\n",
       "      <td>0.028234</td>\n",
       "      <td>0.028234</td>\n",
       "      <td>0.036466</td>\n",
       "      <td>0.036466</td>\n",
       "      <td>0.040919</td>\n",
       "      <td>0.040919</td>\n",
       "      <td>0.044233</td>\n",
       "      <td>...</td>\n",
       "      <td>0.416887</td>\n",
       "      <td>0.416926</td>\n",
       "      <td>0.416926</td>\n",
       "      <td>0.416926</td>\n",
       "      <td>0.416926</td>\n",
       "      <td>0.417069</td>\n",
       "      <td>0.417069</td>\n",
       "      <td>0.417069</td>\n",
       "      <td>0.417069</td>\n",
       "      <td>0.418042</td>\n",
       "    </tr>\n",
       "    <tr>\n",
       "      <th>5</th>\n",
       "      <td>6</td>\n",
       "      <td>17.0</td>\n",
       "      <td>0.020617</td>\n",
       "      <td>0.029960</td>\n",
       "      <td>0.029960</td>\n",
       "      <td>0.037593</td>\n",
       "      <td>0.037593</td>\n",
       "      <td>0.041512</td>\n",
       "      <td>0.041512</td>\n",
       "      <td>0.044296</td>\n",
       "      <td>...</td>\n",
       "      <td>0.412473</td>\n",
       "      <td>0.412570</td>\n",
       "      <td>0.412570</td>\n",
       "      <td>0.412570</td>\n",
       "      <td>0.412570</td>\n",
       "      <td>0.412635</td>\n",
       "      <td>0.412635</td>\n",
       "      <td>0.412635</td>\n",
       "      <td>0.412635</td>\n",
       "      <td>0.412939</td>\n",
       "    </tr>\n",
       "  </tbody>\n",
       "</table>\n",
       "<p>5 rows × 9446 columns</p>\n",
       "</div>"
      ],
      "text/plain": [
       "   No    OP       552       553       554       555       556       557  \\\n",
       "0   1  14.0  0.026602  0.031197  0.031197  0.034768  0.034768  0.036226   \n",
       "1   2  13.0  0.027282  0.033386  0.033386  0.038157  0.038157  0.040221   \n",
       "2   3  17.0  0.019621  0.028953  0.028953  0.036467  0.036467  0.040136   \n",
       "4   5  16.0  0.017975  0.028234  0.028234  0.036466  0.036466  0.040919   \n",
       "5   6  17.0  0.020617  0.029960  0.029960  0.037593  0.037593  0.041512   \n",
       "\n",
       "        558       559  ...      9991      9992      9993      9994      9995  \\\n",
       "0  0.036226  0.037201  ...  0.420139  0.420166  0.420166  0.420166  0.420166   \n",
       "1  0.040221  0.041793  ...  0.382078  0.382235  0.382235  0.382235  0.382235   \n",
       "2  0.040136  0.042997  ...  0.401328  0.401451  0.401451  0.401451  0.401451   \n",
       "4  0.040919  0.044233  ...  0.416887  0.416926  0.416926  0.416926  0.416926   \n",
       "5  0.041512  0.044296  ...  0.412473  0.412570  0.412570  0.412570  0.412570   \n",
       "\n",
       "       9996      9997      9998      9999     10000  \n",
       "0  0.420397  0.420397  0.420397  0.420397  0.420764  \n",
       "1  0.382062  0.382062  0.382062  0.382062  0.382062  \n",
       "2  0.401349  0.401349  0.401349  0.401349  0.401360  \n",
       "4  0.417069  0.417069  0.417069  0.417069  0.418042  \n",
       "5  0.412635  0.412635  0.412635  0.412635  0.412939  \n",
       "\n",
       "[5 rows x 9446 columns]"
      ]
     },
     "execution_count": 480,
     "metadata": {},
     "output_type": "execute_result"
    }
   ],
   "source": [
    "d5_2.head()"
   ]
  },
  {
   "cell_type": "code",
   "execution_count": 857,
   "metadata": {
    "ExecuteTime": {
     "end_time": "2021-10-14T13:19:40.554906Z",
     "start_time": "2021-10-14T13:19:38.512472Z"
    }
   },
   "outputs": [
    {
     "name": "stdout",
     "output_type": "stream",
     "text": [
      "245\n",
      "9444\n",
      "3448\n"
     ]
    }
   ],
   "source": [
    "name = list(d5_2['No'])\n",
    "A=[]\n",
    "for i in name:\n",
    "    A.append(list(d5_2.loc[i-1]))\n",
    "print(len(A))\n",
    "print(len(A[1][2:]))\n",
    "\n",
    "name = []\n",
    "for i in range(552,4000):\n",
    "    name.append(i)\n",
    "print(len(name))"
   ]
  },
  {
   "cell_type": "code",
   "execution_count": 858,
   "metadata": {
    "ExecuteTime": {
     "end_time": "2021-10-14T13:19:50.515706Z",
     "start_time": "2021-10-14T13:19:50.500364Z"
    }
   },
   "outputs": [
    {
     "data": {
      "text/plain": [
       "9444"
      ]
     },
     "execution_count": 858,
     "metadata": {},
     "output_type": "execute_result"
    }
   ],
   "source": [
    "for i in range(4004,10000):\n",
    "    name.append(i)\n",
    "len(name)"
   ]
  },
  {
   "cell_type": "code",
   "execution_count": 483,
   "metadata": {
    "ExecuteTime": {
     "end_time": "2021-10-14T09:11:31.015197Z",
     "start_time": "2021-10-14T09:11:28.865303Z"
    }
   },
   "outputs": [
    {
     "name": "stderr",
     "output_type": "stream",
     "text": [
      "/Users/yangjie/anaconda3/lib/python3.6/site-packages/matplotlib/font_manager.py:1328: UserWarning: findfont: Font family ['sans-serif'] not found. Falling back to DejaVu Sans\n",
      "  (prop.get_family(), self.defaultFamily[fontext]))\n"
     ]
    },
    {
     "data": {
      "image/png": "[encoded data removed]",
      "text/plain": [
       "<Figure size 432x288 with 1 Axes>"
      ]
     },
     "metadata": {},
     "output_type": "display_data"
    }
   ],
   "source": [
    "for i in range(245):\n",
    "    if A[i][1]==1:\n",
    "        plt.plot(name,A[i][2:],'-r')\n",
    "    elif A[i][1]==1:\n",
    "        plt.plot(name,A[i][2:],'-g')\n",
    "    elif A[i][1]==2:\n",
    "        plt.plot(name,A[i][2:],'-b')\n",
    "    elif A[i][1]==3:\n",
    "        plt.plot(name,A[i][2:],'black')\n",
    "    elif A[i][1]==4:\n",
    "        plt.plot(name,A[i][2:],'-y')\n",
    "    elif A[i][1]==5:\n",
    "        plt.plot(name,A[i][2:],'aqua')\n",
    "    elif A[i][1]==6:\n",
    "        plt.plot(name,A[i][2:],'aquamarine')\n",
    "    elif A[i][1]==7:\n",
    "        plt.plot(name,A[i][2:],'azure')\n",
    "    elif A[i][1]==8:\n",
    "        plt.plot(name,A[i][2:],'beige')\n",
    "    elif A[i][1]==9:\n",
    "        plt.plot(name,A[i][2:],'bisque')\n",
    "    elif A[i][1]==10:\n",
    "        plt.plot(name,A[i][2:],'blanchedalmond')\n",
    "    elif A[i][1]==11:\n",
    "        plt.plot(name,A[i][2:],'brown')\n",
    "    elif A[i][1]==12:\n",
    "        plt.plot(name,A[i][2:],'burlywood')\n",
    "    elif A[i][1]==13:\n",
    "        plt.plot(name,A[i][2:],'cadetblue')\n",
    "    elif A[i][1]==14:\n",
    "        plt.plot(name,A[i][2:],'chocolate')\n",
    "    elif A[i][1]==15:\n",
    "        plt.plot(name,A[i][2:],'cornflowerblue')\n",
    "    elif A[i][1]==16:\n",
    "        plt.plot(name,A[i][2:],'crimson')\n",
    "    else:\n",
    "        plt.plot(name,A[i][2:],'chartreuse')\n",
    "plt.show()"
   ]
  },
  {
   "cell_type": "code",
   "execution_count": 859,
   "metadata": {
    "ExecuteTime": {
     "end_time": "2021-10-14T13:20:01.194335Z",
     "start_time": "2021-10-14T13:20:00.626576Z"
    }
   },
   "outputs": [
    {
     "name": "stdout",
     "output_type": "stream",
     "text": [
      "(245, 9444)\n"
     ]
    }
   ],
   "source": [
    "# 拼接特征+整体降维+进行预测orBP神经网络\n",
    "name=list(d5_2[0:0])[2:]\n",
    "\n",
    "# 制作数据集\n",
    "A=[]\n",
    "for i in name:\n",
    "    a=d5_2[i]\n",
    "    a=list(a)\n",
    "    A.append(a)\n",
    "import numpy as np\n",
    "X=np.transpose(np.array(A))\n",
    "print(X.shape)"
   ]
  },
  {
   "cell_type": "code",
   "execution_count": 861,
   "metadata": {
    "ExecuteTime": {
     "end_time": "2021-10-14T13:20:53.577136Z",
     "start_time": "2021-10-14T13:20:53.533268Z"
    }
   },
   "outputs": [
    {
     "name": "stdout",
     "output_type": "stream",
     "text": [
      "Reduced shape: (245, 200)\n"
     ]
    }
   ],
   "source": [
    "# 尝试PCA降到二维直观表示数据\n",
    "from sklearn.decomposition import PCA\n",
    "from sklearn.preprocessing import MinMaxScaler\n",
    "%matplotlib inline\n",
    "# 保留前两个特征向量\n",
    "scaler = MinMaxScaler().fit(X)\n",
    "X1_scaled = scaler.transform(X)\n",
    "pca = PCA(n_components=85).fit(X1_scaled)\n",
    "\n",
    "# transform data onto the first two principal components\n",
    "X = pca.transform(X1_scaled)\n",
    "print(\"Reduced shape: {}\".format(str(X.shape)))"
   ]
  },
  {
   "cell_type": "code",
   "execution_count": 865,
   "metadata": {
    "ExecuteTime": {
     "end_time": "2021-10-14T13:21:51.202739Z",
     "start_time": "2021-10-14T13:21:51.189196Z"
    }
   },
   "outputs": [
    {
     "name": "stdout",
     "output_type": "stream",
     "text": [
      "245\n",
      "X训练集大小： (183, 200)\n",
      "X测试集大小： (62, 200)\n"
     ]
    }
   ],
   "source": [
    "# 制作标签集\n",
    "B=np.array(list(d5_2['OP']))\n",
    "B=B.astype(np.int)\n",
    "print(len(B))\n",
    "Y=B\n",
    "\n",
    "# 对数据集和标签集分割为训练集和测试集\n",
    "from sklearn.model_selection import train_test_split\n",
    "X_train, X_test, y_train, y_test= train_test_split(X, Y,random_state=1)\n",
    "print('X训练集大小：',X_train.shape)\n",
    "print('X测试集大小：',X_test.shape)\n",
    "\n",
    "from sklearn.preprocessing import StandardScaler# 对数据做标准化处理\n",
    "scaler = StandardScaler().fit(X_train)\n",
    "X_train_scaled = scaler.transform(X_train)# 在训练集上进行归一化拟合\n",
    "X_test_scaled = scaler.transform(X_test)"
   ]
  },
  {
   "cell_type": "code",
   "execution_count": 866,
   "metadata": {
    "ExecuteTime": {
     "end_time": "2021-10-14T13:21:59.610164Z",
     "start_time": "2021-10-14T13:21:59.589896Z"
    }
   },
   "outputs": [
    {
     "name": "stdout",
     "output_type": "stream",
     "text": [
      "{1.0: 2, 2.0: 8, 3.0: 1, 4.0: 5, 5.0: 5, 6.0: 6, 7.0: 3, 8.0: 2, 9.0: 3, 10.0: 3, 11.0: 2, 12.0: 3, 13.0: 5, 14.0: 4, 15.0: 3, 16.0: 2, 17.0: 5}\n",
      "{1.0: 12, 2.0: 6, 3.0: 13, 4.0: 9, 5.0: 10, 6.0: 9, 7.0: 12, 8.0: 13, 9.0: 11, 10.0: 11, 11.0: 12, 12.0: 12, 13.0: 10, 14.0: 10, 15.0: 12, 16.0: 12, 17.0: 9}\n"
     ]
    }
   ],
   "source": [
    "list01 = list(d5_2['OP'])\n",
    "set01 = set(list01) \n",
    "dict01 = {}\n",
    "for item in set01:\n",
    "    dict01.update({item:list(y_test).count(item)})\n",
    "print(dict01)\n",
    "dict02 = {}\n",
    "for item in set01:\n",
    "    dict02.update({item:list(y_train).count(item)})\n",
    "print(dict02)"
   ]
  },
  {
   "cell_type": "code",
   "execution_count": 908,
   "metadata": {
    "ExecuteTime": {
     "end_time": "2021-10-14T13:29:57.472956Z",
     "start_time": "2021-10-14T13:29:57.364991Z"
    }
   },
   "outputs": [
    {
     "name": "stdout",
     "output_type": "stream",
     "text": [
      "Training set score: 1.000\n",
      "Test set score: 0.968\n",
      "Training set score: 1.000\n",
      "Test set score: 0.968\n",
      "Training set score: 1.000\n",
      "Test set score: 0.968\n"
     ]
    }
   ],
   "source": [
    "# 分类-logistc\n",
    "from sklearn.linear_model import LogisticRegression\n",
    "\n",
    "logreg = LogisticRegression().fit(X_train, y_train)# 默认C=1，C可以增大\n",
    "print(\"Training set score: {:.3f}\".format(logreg.score(X_train, y_train)))\n",
    "print(\"Test set score: {:.3f}\".format(logreg.score(X_test, y_test)))# 训练和测试很接近，有可能欠拟合\n",
    "\n",
    "logreg100 = LogisticRegression(C=100000).fit(X_train, y_train)# C=100，减弱正则化\n",
    "print(\"Training set score: {:.3f}\".format(logreg100.score(X_train, y_train)))\n",
    "print(\"Test set score: {:.3f}\".format(logreg100.score(X_test, y_test)))\n",
    "\n",
    "logreg1000 = LogisticRegression(C=180000).fit(X_train, y_train)\n",
    "print(\"Training set score: {:.3f}\".format(logreg1000.score(X_train, y_train)))\n",
    "print(\"Test set score: {:.3f}\".format(logreg1000.score(X_test, y_test)))"
   ]
  },
  {
   "cell_type": "code",
   "execution_count": 909,
   "metadata": {
    "ExecuteTime": {
     "end_time": "2021-10-14T13:30:07.694452Z",
     "start_time": "2021-10-14T13:30:07.666943Z"
    }
   },
   "outputs": [
    {
     "name": "stdout",
     "output_type": "stream",
     "text": [
      "Accuracy on training set: 1.000\n",
      "Accuracy on test set: 0.565\n",
      "Feature importances:\n",
      "[0.1063935  0.         0.         0.05158691 0.         0.10446554\n",
      " 0.15069524 0.01476319 0.12537403 0.         0.02077072 0.01899828\n",
      " 0.08843508 0.0850584  0.02617111 0.         0.         0.\n",
      " 0.         0.         0.0213246  0.05688045 0.         0.\n",
      " 0.         0.         0.         0.         0.03300656 0.\n",
      " 0.         0.         0.0058158  0.0135702  0.         0.\n",
      " 0.         0.03714293 0.         0.         0.         0.\n",
      " 0.         0.         0.         0.         0.         0.\n",
      " 0.         0.0058158  0.         0.         0.         0.\n",
      " 0.01046844 0.         0.         0.         0.         0.\n",
      " 0.         0.         0.         0.         0.0155088  0.\n",
      " 0.         0.         0.         0.         0.         0.\n",
      " 0.         0.         0.         0.         0.         0.\n",
      " 0.         0.         0.         0.         0.         0.0077544\n",
      " 0.        ]\n",
      "[552, 553, 554, 555, 556, 557, 558, 559, 560, 561, 562, 563, 564, 565, 566, 567, 568, 569, 570, 571, 571]\n"
     ]
    }
   ],
   "source": [
    "# 分类-决策树\n",
    "from sklearn.tree import DecisionTreeClassifier\n",
    "\n",
    "tree = DecisionTreeClassifier(max_depth=90,random_state=0)\n",
    "tree.fit(X_train, y_train)\n",
    "print(\"Accuracy on training set: {:.3f}\".format(tree.score(X_train, y_train)))\n",
    "print(\"Accuracy on test set: {:.3f}\".format(tree.score(X_test, y_test)))\n",
    "\n",
    "print(\"Feature importances:\")\n",
    "print(tree.feature_importances_)\n",
    "F=list(tree.feature_importances_)\n",
    "f=[]\n",
    "F.sort(reverse=1)\n",
    "for i in F:\n",
    "    if i >0:\n",
    "        a=F.index(i)\n",
    "        f.append(name[a])\n",
    "print(f)"
   ]
  },
  {
   "cell_type": "code",
   "execution_count": 910,
   "metadata": {
    "ExecuteTime": {
     "end_time": "2021-10-14T13:30:46.638710Z",
     "start_time": "2021-10-14T13:30:17.098101Z"
    }
   },
   "outputs": [
    {
     "name": "stdout",
     "output_type": "stream",
     "text": [
      "Accuracy on training set: 1.000\n",
      "Accuracy on test set: 0.887\n",
      "[557, 560, 558, 564, 552, 565, 555, 553, 573, 567, 559, 561, 554, 572, 589, 562, 576, 588, 569, 563]\n"
     ]
    }
   ],
   "source": [
    "# 分类——随机森林\n",
    "from sklearn.ensemble import RandomForestClassifier# 随机森林无效\n",
    "forest = RandomForestClassifier(n_estimators=10000, random_state=0)\n",
    "forest.fit(X_train, y_train)\n",
    "\n",
    "print(\"Accuracy on training set: {:.3f}\".format(forest.score(X_train, y_train)))\n",
    "print(\"Accuracy on test set: {:.3f}\".format(forest.score(X_test, y_test)))\n",
    "\n",
    "forest.feature_importances_\n",
    "F1=list(forest.feature_importances_)\n",
    "F=list(forest.feature_importances_)\n",
    "F.sort(reverse=1)\n",
    "\n",
    "f=[]\n",
    "for i in F[:20]:\n",
    "    a=F1.index(i)\n",
    "    f.append(name[a])\n",
    "print(f)"
   ]
  },
  {
   "cell_type": "code",
   "execution_count": 911,
   "metadata": {
    "ExecuteTime": {
     "end_time": "2021-10-14T13:30:58.011953Z",
     "start_time": "2021-10-14T13:30:54.937451Z"
    }
   },
   "outputs": [
    {
     "name": "stdout",
     "output_type": "stream",
     "text": [
      "Accuracy on training set: 1.000\n",
      "Accuracy on test set: 0.887\n",
      "[557, 560, 558, 552, 564, 565, 555, 553, 567, 573, 559, 561, 554, 572, 589, 562, 576, 588, 563, 569]\n"
     ]
    }
   ],
   "source": [
    "# 分类——随机森林\n",
    "from sklearn.ensemble import RandomForestClassifier# 随机森林无效\n",
    "forest = RandomForestClassifier(n_estimators=1000, random_state=0)\n",
    "forest.fit(X_train, y_train)\n",
    "\n",
    "print(\"Accuracy on training set: {:.3f}\".format(forest.score(X_train, y_train)))\n",
    "print(\"Accuracy on test set: {:.3f}\".format(forest.score(X_test, y_test)))\n",
    "\n",
    "forest.feature_importances_\n",
    "F1=list(forest.feature_importances_)\n",
    "F=list(forest.feature_importances_)\n",
    "F.sort(reverse=1)\n",
    "\n",
    "f=[]\n",
    "for i in F[:20]:\n",
    "    a=F1.index(i)\n",
    "    f.append(name[a])\n",
    "print(f)"
   ]
  },
  {
   "cell_type": "code",
   "execution_count": 912,
   "metadata": {
    "ExecuteTime": {
     "end_time": "2021-10-14T13:31:17.572389Z",
     "start_time": "2021-10-14T13:31:10.184479Z"
    }
   },
   "outputs": [
    {
     "name": "stdout",
     "output_type": "stream",
     "text": [
      "Accuracy on training set: 1.000\n",
      "Accuracy on test set: 0.597\n",
      "[560, 564, 558, 552, 554, 567, 555, 565, 557, 561, 573, 569, 577, 600, 568, 578, 589, 571, 559, 603]\n"
     ]
    }
   ],
   "source": [
    "# 分类——梯度上升\n",
    "from sklearn.ensemble import GradientBoostingClassifier\n",
    "gbrt = GradientBoostingClassifier(random_state=0,max_depth=3)\n",
    "gbrt.fit(X_train, y_train)\n",
    "print(\"Accuracy on training set: {:.3f}\".format(gbrt.score(X_train, y_train)))\n",
    "print(\"Accuracy on test set: {:.3f}\".format(gbrt.score(X_test, y_test)))\n",
    "\n",
    "F=list(gbrt.feature_importances_)\n",
    "F1=list(gbrt.feature_importances_)\n",
    "F1.sort(reverse=1)\n",
    "f=[]\n",
    "for i in F1[:20]:\n",
    "    a=F.index(i)\n",
    "    f.append(name[a])\n",
    "print(f)"
   ]
  },
  {
   "cell_type": "code",
   "execution_count": 916,
   "metadata": {
    "ExecuteTime": {
     "end_time": "2021-10-14T13:32:12.989986Z",
     "start_time": "2021-10-14T13:32:12.953264Z"
    }
   },
   "outputs": [
    {
     "name": "stdout",
     "output_type": "stream",
     "text": [
      "Accuracy on training set: 1.000\n",
      "Accuracy on test set: 0.903\n"
     ]
    }
   ],
   "source": [
    "# 分类——支持向量机模型，对预处理敏感\n",
    "\n",
    "from sklearn.preprocessing import StandardScaler\n",
    "from sklearn.svm import SVC\n",
    "\n",
    "scaler = StandardScaler().fit(X_train)\n",
    "X_train_scaled = scaler.transform(X_train)\n",
    "X_test_scaled = scaler.transform(X_test)\n",
    "\n",
    "svc = SVC(C=1000)\n",
    "svc.fit(X_train_scaled, y_train)\n",
    "print(\"Accuracy on training set: {:.3f}\".format(\n",
    "        svc.score(X_train_scaled, y_train)))\n",
    "print(\"Accuracy on test set: {:.3f}\".format(svc.score(X_test_scaled, y_test)))"
   ]
  },
  {
   "cell_type": "code",
   "execution_count": 906,
   "metadata": {
    "ExecuteTime": {
     "end_time": "2021-10-14T13:29:35.396353Z",
     "start_time": "2021-10-14T13:29:33.935892Z"
    }
   },
   "outputs": [
    {
     "name": "stdout",
     "output_type": "stream",
     "text": [
      "(245, 9444)\n",
      "Reduced shape: (245, 85)\n",
      "X训练集大小： (183, 85)\n",
      "X测试集大小： (62, 85)\n"
     ]
    }
   ],
   "source": [
    "# 制作数据集\n",
    "A=[]\n",
    "for i in name:\n",
    "    a=d5_2[i]\n",
    "    a=list(a)\n",
    "    A.append(a)\n",
    "import numpy as np\n",
    "X=np.transpose(np.array(A))\n",
    "print(X.shape)\n",
    "# 尝试PCA降到二维直观表示数据\n",
    "from sklearn.decomposition import PCA\n",
    "from sklearn.preprocessing import MinMaxScaler\n",
    "%matplotlib inline\n",
    "# 保留前两个特征向量\n",
    "scaler = MinMaxScaler().fit(X)\n",
    "X1_scaled = scaler.transform(X)\n",
    "pca = PCA(n_components=85).fit(X1_scaled)\n",
    "\n",
    "# transform data onto the first two principal components\n",
    "X = pca.transform(X1_scaled)\n",
    "print(\"Reduced shape: {}\".format(str(X.shape)))\n",
    "# 对数据集和标签集分割为训练集和测试集\n",
    "from sklearn.model_selection import train_test_split\n",
    "X_train, X_test, y_train, y_test= train_test_split(X, Y,random_state=1)\n",
    "print('X训练集大小：',X_train.shape)\n",
    "print('X测试集大小：',X_test.shape)"
   ]
  },
  {
   "cell_type": "code",
   "execution_count": 929,
   "metadata": {
    "ExecuteTime": {
     "end_time": "2021-10-14T13:45:02.515132Z",
     "start_time": "2021-10-14T13:45:02.304438Z"
    }
   },
   "outputs": [
    {
     "name": "stdout",
     "output_type": "stream",
     "text": [
      "0.0\n",
      "1.0\n",
      "0.967741935483871\n"
     ]
    }
   ],
   "source": [
    "from sklearn.neural_network import MLPClassifier\n",
    "from sklearn.metrics import mean_squared_error\n",
    "scaler = StandardScaler()\n",
    "scaler.fit(X_train)\n",
    "X_train = scaler.transform(X_train)\n",
    "# 定义神经网络\n",
    "#clf = MLPClassifier(hidden_layer_sizes=(25,), random_state=0, max_iter=50,shuffle=True)\n",
    "clf= MLPClassifier(solver='lbfgs', activation='relu',alpha=1e-4,hidden_layer_sizes=(800), random_state=1,max_iter=100,verbose=10,learning_rate_init=.1)\n",
    "clf.fit(X_train, y_train)\n",
    "y_pred = clf.predict(X_train)\n",
    "mse = mean_squared_error(y_train, y_pred)\n",
    "print(mse)\n",
    "print(clf.score(X_train, y_train))\n",
    "scaler.fit(X_test)\n",
    "X_test = scaler.transform(X_test)\n",
    "y_test_pred = clf.predict(X_test)\n",
    "print(clf.score(X_test, y_test))"
   ]
  },
  {
   "cell_type": "code",
   "execution_count": 930,
   "metadata": {
    "ExecuteTime": {
     "end_time": "2021-10-14T13:45:11.997723Z",
     "start_time": "2021-10-14T13:45:11.985642Z"
    }
   },
   "outputs": [
    {
     "data": {
      "text/plain": [
       "array([16,  6, 11,  9, 13,  9,  2,  2,  1, 17, 12, 13,  6, 15,  2, 13,  5,\n",
       "       10, 13,  6,  7, 15,  3, 11,  5, 14,  2,  6,  5,  9,  7, 12,  1, 10,\n",
       "        6, 14,  2,  8, 10,  7,  2, 16,  2, 17, 14, 12,  4,  4,  4, 14, 17,\n",
       "        8,  9, 15, 17, 13,  5,  4,  4, 12, 17,  6])"
      ]
     },
     "execution_count": 930,
     "metadata": {},
     "output_type": "execute_result"
    }
   ],
   "source": [
    "y_test_pred"
   ]
  },
  {
   "cell_type": "code",
   "execution_count": 931,
   "metadata": {
    "ExecuteTime": {
     "end_time": "2021-10-14T13:45:21.107277Z",
     "start_time": "2021-10-14T13:45:21.098483Z"
    }
   },
   "outputs": [
    {
     "data": {
      "text/plain": [
       "array([16,  6, 11,  9, 13,  9,  2,  2,  1, 17, 12, 13,  6, 15,  2, 13,  5,\n",
       "       10, 13,  6,  7, 15,  3, 11,  5, 14,  2,  6,  5,  9,  7, 12,  1, 10,\n",
       "        6, 14,  2,  8, 10,  7,  2, 16,  2, 17, 14,  5,  4,  4,  4, 14, 17,\n",
       "        8,  2, 15, 17, 13,  5,  4,  4, 12, 17,  6])"
      ]
     },
     "execution_count": 931,
     "metadata": {},
     "output_type": "execute_result"
    }
   ],
   "source": [
    "y_test"
   ]
  },
  {
   "cell_type": "markdown",
   "metadata": {},
   "source": [
    "# 问题4——多标签分类"
   ]
  },
  {
   "cell_type": "code",
   "execution_count": 918,
   "metadata": {
    "ExecuteTime": {
     "end_time": "2021-10-14T13:36:16.995875Z",
     "start_time": "2021-10-14T13:35:48.704348Z"
    }
   },
   "outputs": [],
   "source": [
    "import pandas as pd\n",
    "import os\n",
    "csv_path = os.path.join(\"附件4.xlsx\")\n",
    "d6 = pd.read_excel(csv_path)\n",
    "d6.head()\n",
    "d7 = d6.dropna(subset=['OP'])# 所属地区\n",
    "d8 = d6.dropna(subset=['Class'])# 所属类别"
   ]
  },
  {
   "cell_type": "code",
   "execution_count": 920,
   "metadata": {
    "ExecuteTime": {
     "end_time": "2021-10-14T13:36:39.062368Z",
     "start_time": "2021-10-14T13:36:39.026563Z"
    }
   },
   "outputs": [
    {
     "data": {
      "text/html": [
       "<div>\n",
       "<style scoped>\n",
       "    .dataframe tbody tr th:only-of-type {\n",
       "        vertical-align: middle;\n",
       "    }\n",
       "\n",
       "    .dataframe tbody tr th {\n",
       "        vertical-align: top;\n",
       "    }\n",
       "\n",
       "    .dataframe thead th {\n",
       "        text-align: right;\n",
       "    }\n",
       "</style>\n",
       "<table border=\"1\" class=\"dataframe\">\n",
       "  <thead>\n",
       "    <tr style=\"text-align: right;\">\n",
       "      <th></th>\n",
       "      <th>No</th>\n",
       "      <th>Class</th>\n",
       "      <th>OP</th>\n",
       "      <th>4004</th>\n",
       "      <th>4005.00016680567</th>\n",
       "      <th>4006.00033361134</th>\n",
       "      <th>4007.00050041701</th>\n",
       "      <th>4008.00066722268</th>\n",
       "      <th>4009.00083402835</th>\n",
       "      <th>4010.00100083402</th>\n",
       "      <th>...</th>\n",
       "      <th>9990.99849874895</th>\n",
       "      <th>9991.99866555462</th>\n",
       "      <th>9992.99883236029</th>\n",
       "      <th>9993.99899916597</th>\n",
       "      <th>9994.99916597164</th>\n",
       "      <th>9995.99933277731</th>\n",
       "      <th>9996.99949958298</th>\n",
       "      <th>9997.99966638865</th>\n",
       "      <th>9998.99983319432</th>\n",
       "      <th>10000</th>\n",
       "    </tr>\n",
       "  </thead>\n",
       "  <tbody>\n",
       "    <tr>\n",
       "      <th>0</th>\n",
       "      <td>1</td>\n",
       "      <td>B</td>\n",
       "      <td>16.0</td>\n",
       "      <td>0.741947</td>\n",
       "      <td>0.741854</td>\n",
       "      <td>0.741854</td>\n",
       "      <td>0.741783</td>\n",
       "      <td>0.741783</td>\n",
       "      <td>0.741477</td>\n",
       "      <td>0.741477</td>\n",
       "      <td>...</td>\n",
       "      <td>0.566066</td>\n",
       "      <td>0.566066</td>\n",
       "      <td>0.565828</td>\n",
       "      <td>0.565828</td>\n",
       "      <td>0.565920</td>\n",
       "      <td>0.565920</td>\n",
       "      <td>0.566121</td>\n",
       "      <td>0.566121</td>\n",
       "      <td>0.566587</td>\n",
       "      <td>0.566587</td>\n",
       "    </tr>\n",
       "    <tr>\n",
       "      <th>2</th>\n",
       "      <td>3</td>\n",
       "      <td>NaN</td>\n",
       "      <td>10.0</td>\n",
       "      <td>0.696341</td>\n",
       "      <td>0.696134</td>\n",
       "      <td>0.696134</td>\n",
       "      <td>0.695766</td>\n",
       "      <td>0.695766</td>\n",
       "      <td>0.695440</td>\n",
       "      <td>0.695440</td>\n",
       "      <td>...</td>\n",
       "      <td>0.556446</td>\n",
       "      <td>0.556446</td>\n",
       "      <td>0.556551</td>\n",
       "      <td>0.556551</td>\n",
       "      <td>0.556642</td>\n",
       "      <td>0.556642</td>\n",
       "      <td>0.556768</td>\n",
       "      <td>0.556768</td>\n",
       "      <td>0.557080</td>\n",
       "      <td>0.557080</td>\n",
       "    </tr>\n",
       "    <tr>\n",
       "      <th>4</th>\n",
       "      <td>5</td>\n",
       "      <td>NaN</td>\n",
       "      <td>3.0</td>\n",
       "      <td>0.810875</td>\n",
       "      <td>0.810875</td>\n",
       "      <td>0.810956</td>\n",
       "      <td>0.810956</td>\n",
       "      <td>0.810956</td>\n",
       "      <td>0.810956</td>\n",
       "      <td>0.810821</td>\n",
       "      <td>...</td>\n",
       "      <td>0.505071</td>\n",
       "      <td>0.505318</td>\n",
       "      <td>0.505318</td>\n",
       "      <td>0.505318</td>\n",
       "      <td>0.505318</td>\n",
       "      <td>0.505493</td>\n",
       "      <td>0.505493</td>\n",
       "      <td>0.505493</td>\n",
       "      <td>0.505493</td>\n",
       "      <td>0.505686</td>\n",
       "    </tr>\n",
       "    <tr>\n",
       "      <th>5</th>\n",
       "      <td>6</td>\n",
       "      <td>NaN</td>\n",
       "      <td>13.0</td>\n",
       "      <td>0.765117</td>\n",
       "      <td>0.764857</td>\n",
       "      <td>0.764857</td>\n",
       "      <td>0.764790</td>\n",
       "      <td>0.764790</td>\n",
       "      <td>0.764818</td>\n",
       "      <td>0.764818</td>\n",
       "      <td>...</td>\n",
       "      <td>0.530718</td>\n",
       "      <td>0.530718</td>\n",
       "      <td>0.530680</td>\n",
       "      <td>0.530680</td>\n",
       "      <td>0.530777</td>\n",
       "      <td>0.530777</td>\n",
       "      <td>0.530862</td>\n",
       "      <td>0.530862</td>\n",
       "      <td>0.531056</td>\n",
       "      <td>0.531056</td>\n",
       "    </tr>\n",
       "    <tr>\n",
       "      <th>6</th>\n",
       "      <td>7</td>\n",
       "      <td>B</td>\n",
       "      <td>9.0</td>\n",
       "      <td>0.802411</td>\n",
       "      <td>0.802232</td>\n",
       "      <td>0.802232</td>\n",
       "      <td>0.801999</td>\n",
       "      <td>0.801999</td>\n",
       "      <td>0.801771</td>\n",
       "      <td>0.801771</td>\n",
       "      <td>...</td>\n",
       "      <td>0.553452</td>\n",
       "      <td>0.553452</td>\n",
       "      <td>0.553866</td>\n",
       "      <td>0.553866</td>\n",
       "      <td>0.554373</td>\n",
       "      <td>0.554373</td>\n",
       "      <td>0.554239</td>\n",
       "      <td>0.554239</td>\n",
       "      <td>0.554232</td>\n",
       "      <td>0.554232</td>\n",
       "    </tr>\n",
       "  </tbody>\n",
       "</table>\n",
       "<p>5 rows × 5999 columns</p>\n",
       "</div>"
      ],
      "text/plain": [
       "   No Class    OP      4004  4005.00016680567  4006.00033361134  \\\n",
       "0   1     B  16.0  0.741947          0.741854          0.741854   \n",
       "2   3   NaN  10.0  0.696341          0.696134          0.696134   \n",
       "4   5   NaN   3.0  0.810875          0.810875          0.810956   \n",
       "5   6   NaN  13.0  0.765117          0.764857          0.764857   \n",
       "6   7     B   9.0  0.802411          0.802232          0.802232   \n",
       "\n",
       "   4007.00050041701  4008.00066722268  4009.00083402835  4010.00100083402  \\\n",
       "0          0.741783          0.741783          0.741477          0.741477   \n",
       "2          0.695766          0.695766          0.695440          0.695440   \n",
       "4          0.810956          0.810956          0.810956          0.810821   \n",
       "5          0.764790          0.764790          0.764818          0.764818   \n",
       "6          0.801999          0.801999          0.801771          0.801771   \n",
       "\n",
       "   ...  9990.99849874895  9991.99866555462  9992.99883236029  \\\n",
       "0  ...          0.566066          0.566066          0.565828   \n",
       "2  ...          0.556446          0.556446          0.556551   \n",
       "4  ...          0.505071          0.505318          0.505318   \n",
       "5  ...          0.530718          0.530718          0.530680   \n",
       "6  ...          0.553452          0.553452          0.553866   \n",
       "\n",
       "   9993.99899916597  9994.99916597164  9995.99933277731  9996.99949958298  \\\n",
       "0          0.565828          0.565920          0.565920          0.566121   \n",
       "2          0.556551          0.556642          0.556642          0.556768   \n",
       "4          0.505318          0.505318          0.505493          0.505493   \n",
       "5          0.530680          0.530777          0.530777          0.530862   \n",
       "6          0.553866          0.554373          0.554373          0.554239   \n",
       "\n",
       "   9997.99966638865  9998.99983319432     10000  \n",
       "0          0.566121          0.566587  0.566587  \n",
       "2          0.556768          0.557080  0.557080  \n",
       "4          0.505493          0.505493  0.505686  \n",
       "5          0.530862          0.531056  0.531056  \n",
       "6          0.554239          0.554232  0.554232  \n",
       "\n",
       "[5 rows x 5999 columns]"
      ]
     },
     "execution_count": 920,
     "metadata": {},
     "output_type": "execute_result"
    }
   ],
   "source": [
    "d7.head()"
   ]
  },
  {
   "cell_type": "code",
   "execution_count": 919,
   "metadata": {
    "ExecuteTime": {
     "end_time": "2021-10-14T13:36:28.681303Z",
     "start_time": "2021-10-14T13:36:28.628418Z"
    }
   },
   "outputs": [
    {
     "data": {
      "text/html": [
       "<div>\n",
       "<style scoped>\n",
       "    .dataframe tbody tr th:only-of-type {\n",
       "        vertical-align: middle;\n",
       "    }\n",
       "\n",
       "    .dataframe tbody tr th {\n",
       "        vertical-align: top;\n",
       "    }\n",
       "\n",
       "    .dataframe thead th {\n",
       "        text-align: right;\n",
       "    }\n",
       "</style>\n",
       "<table border=\"1\" class=\"dataframe\">\n",
       "  <thead>\n",
       "    <tr style=\"text-align: right;\">\n",
       "      <th></th>\n",
       "      <th>No</th>\n",
       "      <th>Class</th>\n",
       "      <th>OP</th>\n",
       "      <th>4004</th>\n",
       "      <th>4005.00016680567</th>\n",
       "      <th>4006.00033361134</th>\n",
       "      <th>4007.00050041701</th>\n",
       "      <th>4008.00066722268</th>\n",
       "      <th>4009.00083402835</th>\n",
       "      <th>4010.00100083402</th>\n",
       "      <th>...</th>\n",
       "      <th>9990.99849874895</th>\n",
       "      <th>9991.99866555462</th>\n",
       "      <th>9992.99883236029</th>\n",
       "      <th>9993.99899916597</th>\n",
       "      <th>9994.99916597164</th>\n",
       "      <th>9995.99933277731</th>\n",
       "      <th>9996.99949958298</th>\n",
       "      <th>9997.99966638865</th>\n",
       "      <th>9998.99983319432</th>\n",
       "      <th>10000</th>\n",
       "    </tr>\n",
       "  </thead>\n",
       "  <tbody>\n",
       "    <tr>\n",
       "      <th>0</th>\n",
       "      <td>1</td>\n",
       "      <td>B</td>\n",
       "      <td>16.0</td>\n",
       "      <td>0.741947</td>\n",
       "      <td>0.741854</td>\n",
       "      <td>0.741854</td>\n",
       "      <td>0.741783</td>\n",
       "      <td>0.741783</td>\n",
       "      <td>0.741477</td>\n",
       "      <td>0.741477</td>\n",
       "      <td>...</td>\n",
       "      <td>0.566066</td>\n",
       "      <td>0.566066</td>\n",
       "      <td>0.565828</td>\n",
       "      <td>0.565828</td>\n",
       "      <td>0.565920</td>\n",
       "      <td>0.565920</td>\n",
       "      <td>0.566121</td>\n",
       "      <td>0.566121</td>\n",
       "      <td>0.566587</td>\n",
       "      <td>0.566587</td>\n",
       "    </tr>\n",
       "    <tr>\n",
       "      <th>1</th>\n",
       "      <td>2</td>\n",
       "      <td>B</td>\n",
       "      <td>NaN</td>\n",
       "      <td>0.750204</td>\n",
       "      <td>0.749996</td>\n",
       "      <td>0.749996</td>\n",
       "      <td>0.749809</td>\n",
       "      <td>0.749809</td>\n",
       "      <td>0.749672</td>\n",
       "      <td>0.749672</td>\n",
       "      <td>...</td>\n",
       "      <td>0.519781</td>\n",
       "      <td>0.519781</td>\n",
       "      <td>0.519802</td>\n",
       "      <td>0.519802</td>\n",
       "      <td>0.519924</td>\n",
       "      <td>0.519924</td>\n",
       "      <td>0.519708</td>\n",
       "      <td>0.519708</td>\n",
       "      <td>0.519841</td>\n",
       "      <td>0.519841</td>\n",
       "    </tr>\n",
       "    <tr>\n",
       "      <th>3</th>\n",
       "      <td>4</td>\n",
       "      <td>C</td>\n",
       "      <td>NaN</td>\n",
       "      <td>0.837420</td>\n",
       "      <td>0.837420</td>\n",
       "      <td>0.837833</td>\n",
       "      <td>0.837833</td>\n",
       "      <td>0.837833</td>\n",
       "      <td>0.837833</td>\n",
       "      <td>0.837914</td>\n",
       "      <td>...</td>\n",
       "      <td>0.471410</td>\n",
       "      <td>0.471596</td>\n",
       "      <td>0.471596</td>\n",
       "      <td>0.471596</td>\n",
       "      <td>0.471596</td>\n",
       "      <td>0.471807</td>\n",
       "      <td>0.471807</td>\n",
       "      <td>0.471807</td>\n",
       "      <td>0.471807</td>\n",
       "      <td>0.472012</td>\n",
       "    </tr>\n",
       "    <tr>\n",
       "      <th>6</th>\n",
       "      <td>7</td>\n",
       "      <td>B</td>\n",
       "      <td>9.0</td>\n",
       "      <td>0.802411</td>\n",
       "      <td>0.802232</td>\n",
       "      <td>0.802232</td>\n",
       "      <td>0.801999</td>\n",
       "      <td>0.801999</td>\n",
       "      <td>0.801771</td>\n",
       "      <td>0.801771</td>\n",
       "      <td>...</td>\n",
       "      <td>0.553452</td>\n",
       "      <td>0.553452</td>\n",
       "      <td>0.553866</td>\n",
       "      <td>0.553866</td>\n",
       "      <td>0.554373</td>\n",
       "      <td>0.554373</td>\n",
       "      <td>0.554239</td>\n",
       "      <td>0.554239</td>\n",
       "      <td>0.554232</td>\n",
       "      <td>0.554232</td>\n",
       "    </tr>\n",
       "    <tr>\n",
       "      <th>7</th>\n",
       "      <td>8</td>\n",
       "      <td>C</td>\n",
       "      <td>3.0</td>\n",
       "      <td>0.848519</td>\n",
       "      <td>0.848519</td>\n",
       "      <td>0.848664</td>\n",
       "      <td>0.848664</td>\n",
       "      <td>0.848664</td>\n",
       "      <td>0.848664</td>\n",
       "      <td>0.848431</td>\n",
       "      <td>...</td>\n",
       "      <td>0.485511</td>\n",
       "      <td>0.485606</td>\n",
       "      <td>0.485606</td>\n",
       "      <td>0.485606</td>\n",
       "      <td>0.485606</td>\n",
       "      <td>0.485744</td>\n",
       "      <td>0.485744</td>\n",
       "      <td>0.485744</td>\n",
       "      <td>0.485744</td>\n",
       "      <td>0.485849</td>\n",
       "    </tr>\n",
       "  </tbody>\n",
       "</table>\n",
       "<p>5 rows × 5999 columns</p>\n",
       "</div>"
      ],
      "text/plain": [
       "   No Class    OP      4004  4005.00016680567  4006.00033361134  \\\n",
       "0   1     B  16.0  0.741947          0.741854          0.741854   \n",
       "1   2     B   NaN  0.750204          0.749996          0.749996   \n",
       "3   4     C   NaN  0.837420          0.837420          0.837833   \n",
       "6   7     B   9.0  0.802411          0.802232          0.802232   \n",
       "7   8     C   3.0  0.848519          0.848519          0.848664   \n",
       "\n",
       "   4007.00050041701  4008.00066722268  4009.00083402835  4010.00100083402  \\\n",
       "0          0.741783          0.741783          0.741477          0.741477   \n",
       "1          0.749809          0.749809          0.749672          0.749672   \n",
       "3          0.837833          0.837833          0.837833          0.837914   \n",
       "6          0.801999          0.801999          0.801771          0.801771   \n",
       "7          0.848664          0.848664          0.848664          0.848431   \n",
       "\n",
       "   ...  9990.99849874895  9991.99866555462  9992.99883236029  \\\n",
       "0  ...          0.566066          0.566066          0.565828   \n",
       "1  ...          0.519781          0.519781          0.519802   \n",
       "3  ...          0.471410          0.471596          0.471596   \n",
       "6  ...          0.553452          0.553452          0.553866   \n",
       "7  ...          0.485511          0.485606          0.485606   \n",
       "\n",
       "   9993.99899916597  9994.99916597164  9995.99933277731  9996.99949958298  \\\n",
       "0          0.565828          0.565920          0.565920          0.566121   \n",
       "1          0.519802          0.519924          0.519924          0.519708   \n",
       "3          0.471596          0.471596          0.471807          0.471807   \n",
       "6          0.553866          0.554373          0.554373          0.554239   \n",
       "7          0.485606          0.485606          0.485744          0.485744   \n",
       "\n",
       "   9997.99966638865  9998.99983319432     10000  \n",
       "0          0.566121          0.566587  0.566587  \n",
       "1          0.519708          0.519841  0.519841  \n",
       "3          0.471807          0.471807  0.472012  \n",
       "6          0.554239          0.554232  0.554232  \n",
       "7          0.485744          0.485744  0.485849  \n",
       "\n",
       "[5 rows x 5999 columns]"
      ]
     },
     "execution_count": 919,
     "metadata": {},
     "output_type": "execute_result"
    }
   ],
   "source": [
    "d8.head()"
   ]
  },
  {
   "cell_type": "code",
   "execution_count": 941,
   "metadata": {
    "ExecuteTime": {
     "end_time": "2021-10-14T14:02:42.489055Z",
     "start_time": "2021-10-14T14:02:41.666708Z"
    }
   },
   "outputs": [
    {
     "name": "stdout",
     "output_type": "stream",
     "text": [
      "(349, 5996)\n",
      "Reduced shape: (349, 65)\n",
      "349\n",
      "X训练集大小： (261, 65)\n",
      "X测试集大小： (88, 65)\n"
     ]
    }
   ],
   "source": [
    "# 拼接特征+整体降维+进行预测orBP神经网络\n",
    "name=list(d7[0:0])[3:]\n",
    "\n",
    "# 制作数据集\n",
    "A=[]\n",
    "for i in name:\n",
    "    a=d7[i]\n",
    "    a=list(a)\n",
    "    A.append(a)\n",
    "import numpy as np\n",
    "X=np.transpose(np.array(A))\n",
    "print(X.shape)\n",
    "\n",
    "\n",
    "# 尝试PCA降到二维直观表示数据\n",
    "from sklearn.decomposition import PCA\n",
    "from sklearn.preprocessing import MinMaxScaler\n",
    "%matplotlib inline\n",
    "# 保留前两个特征向量\n",
    "scaler = MinMaxScaler().fit(X)\n",
    "X1_scaled = scaler.transform(X)\n",
    "pca = PCA(n_components=65).fit(X1_scaled)\n",
    "\n",
    "# transform data onto the first two principal components\n",
    "X = pca.transform(X1_scaled)\n",
    "print(\"Reduced shape: {}\".format(str(X.shape)))\n",
    "\n",
    "# 制作标签集\n",
    "B=np.array(list(d7['OP']))\n",
    "B=B.astype(np.int)\n",
    "print(len(B))\n",
    "Y=B\n",
    "\n",
    "# 对数据集和标签集分割为训练集和测试集\n",
    "from sklearn.model_selection import train_test_split\n",
    "X_train, X_test, y_train, y_test= train_test_split(X, Y,random_state=1)\n",
    "print('X训练集大小：',X_train.shape)\n",
    "print('X测试集大小：',X_test.shape)\n",
    "\n",
    "from sklearn.preprocessing import StandardScaler# 对数据做标准化处理\n",
    "scaler = StandardScaler().fit(X_train)\n",
    "X_train_scaled = scaler.transform(X_train)# 在训练集上进行归一化拟合\n",
    "X_test_scaled = scaler.transform(X_test)"
   ]
  },
  {
   "cell_type": "code",
   "execution_count": 943,
   "metadata": {
    "ExecuteTime": {
     "end_time": "2021-10-14T14:03:03.842632Z",
     "start_time": "2021-10-14T14:03:03.603100Z"
    }
   },
   "outputs": [
    {
     "name": "stdout",
     "output_type": "stream",
     "text": [
      "0.0\n",
      "1.0\n",
      "0.8409090909090909\n"
     ]
    }
   ],
   "source": [
    "from sklearn.neural_network import MLPClassifier\n",
    "from sklearn.metrics import mean_squared_error\n",
    "scaler = StandardScaler()\n",
    "scaler.fit(X_train)\n",
    "X_train = scaler.transform(X_train)\n",
    "# 定义神经网络\n",
    "#clf = MLPClassifier(hidden_layer_sizes=(25,), random_state=0, max_iter=50,shuffle=True)\n",
    "clf= MLPClassifier(solver='lbfgs', activation='relu',alpha=1e-4,hidden_layer_sizes=(800), random_state=1,max_iter=100,verbose=10,learning_rate_init=.1)\n",
    "clf.fit(X_train, y_train)\n",
    "y_pred = clf.predict(X_train)\n",
    "mse = mean_squared_error(y_train, y_pred)\n",
    "print(mse)\n",
    "print(clf.score(X_train, y_train))\n",
    "scaler.fit(X_test)\n",
    "X_test = scaler.transform(X_test)\n",
    "y_test_pred = clf.predict(X_test)\n",
    "print(clf.score(X_test, y_test))"
   ]
  },
  {
   "cell_type": "code",
   "execution_count": 1,
   "metadata": {
    "ExecuteTime": {
     "end_time": "2021-10-15T16:53:18.972887Z",
     "start_time": "2021-10-15T16:53:18.386882Z"
    }
   },
   "outputs": [],
   "source": [
    "from sko.PSO import PSO"
   ]
  },
  {
   "cell_type": "code",
   "execution_count": 2,
   "metadata": {
    "ExecuteTime": {
     "end_time": "2021-10-15T16:54:26.770647Z",
     "start_time": "2021-10-15T16:54:06.156544Z"
    }
   },
   "outputs": [],
   "source": [
    "import pandas as pd\n",
    "Mo = pd.read_excel(\"Molecular_Descriptor.xlsx\")\n",
    "ER = pd.read_excel(\"ERα_activity.xlsx\")\n",
    "AD = pd.read_excel(\"ADMET.xlsx\")"
   ]
  },
  {
   "cell_type": "code",
   "execution_count": 4,
   "metadata": {
    "ExecuteTime": {
     "end_time": "2021-10-15T16:54:43.852012Z",
     "start_time": "2021-10-15T16:54:43.804089Z"
    }
   },
   "outputs": [
    {
     "name": "stdout",
     "output_type": "stream",
     "text": [
      "X.shape (1974, 729)\n",
      "Y.shape (1974,)\n",
      "Y1.shape (1974,)\n",
      "Y2.shape (1974,)\n",
      "Y3.shape (1974,)\n",
      "Y4.shape (1974,)\n",
      "Y5.shape (1974,)\n"
     ]
    }
   ],
   "source": [
    "import numpy as np\n",
    "X = []\n",
    "names = []\n",
    "for i in Mo:\n",
    "    if i == 'SMILES':\n",
    "        N=np.array(Mo[i])\n",
    "    # 其余变量均作为特征进行筛选\n",
    "    else:\n",
    "        X.append(np.array(Mo[i]))\n",
    "        names.append(i)\n",
    "X = np.transpose(np.array(X))\n",
    "print('X.shape', X.shape)\n",
    "Y = np.array(ER['pIC50'])# 越大越好\n",
    "print('Y.shape', Y.shape)\n",
    "Y1 = np.array(AD['Caco-2'])# 越大越好\n",
    "print('Y1.shape', Y1.shape)\n",
    "Y2 = np.array(AD['CYP3A4'])# 越大越好\n",
    "print('Y2.shape', Y2.shape)\n",
    "Y3 = np.array(AD['hERG'])# 越小越好\n",
    "print('Y3.shape', Y3.shape)\n",
    "Y4 = np.array(AD['HOB'])# 越大越好\n",
    "print('Y4.shape', Y4.shape)\n",
    "Y5 = np.array(AD['MN'])# 越小越好\n",
    "print('Y5.shape', Y5.shape)"
   ]
  },
  {
   "cell_type": "code",
   "execution_count": 6,
   "metadata": {
    "ExecuteTime": {
     "end_time": "2021-10-15T16:55:18.382510Z",
     "start_time": "2021-10-15T16:55:18.364174Z"
    }
   },
   "outputs": [
    {
     "name": "stdout",
     "output_type": "stream",
     "text": [
      "(1974, 22)\n"
     ]
    }
   ],
   "source": [
    "B=[]\n",
    "k0=['minHBa', 'ATSc3', 'WTPT-5', 'hmin', 'nHBAcc', 'MLFER_S', 'maxHBa', 'ATSc4', 'ETA_BetaP_s', 'MLFER_BH', 'MDEC-23', 'SHaaCH', 'TopoPSA', 'MAXDP2', 'ATSc2', 'MLFER_BO', 'gmax', 'MAXDP', 'ETA_Epsilon_4', 'ATSc1', 'WTPT-3', 'ETA_dEpsilon_C']\n",
    "for i in names:\n",
    "    if i in k0:\n",
    "        B.append(list(Mo[i]))\n",
    "B=np.transpose(np.array(B))\n",
    "print(B.shape)"
   ]
  },
  {
   "cell_type": "code",
   "execution_count": 132,
   "metadata": {
    "ExecuteTime": {
     "end_time": "2021-10-15T17:21:00.639350Z",
     "start_time": "2021-10-15T17:20:59.292989Z"
    }
   },
   "outputs": [
    {
     "name": "stdout",
     "output_type": "stream",
     "text": [
      "X训练集大小： (1381, 22)\n",
      "X测试集大小： (593, 22)\n",
      "0.0\n",
      "1.0\n",
      "0.9342327150084317\n"
     ]
    },
    {
     "name": "stderr",
     "output_type": "stream",
     "text": [
      "/Users/yangjie/anaconda3/lib/python3.6/site-packages/sklearn/neural_network/_multilayer_perceptron.py:471: ConvergenceWarning: lbfgs failed to converge (status=1):\n",
      "STOP: TOTAL NO. of ITERATIONS REACHED LIMIT.\n",
      "\n",
      "Increase the number of iterations (max_iter) or scale the data as shown in:\n",
      "    https://scikit-learn.org/stable/modules/preprocessing.html\n",
      "  self.n_iter_ = _check_optimize_result(\"lbfgs\", opt_res, self.max_iter)\n"
     ]
    }
   ],
   "source": [
    "# 对数据集和标签集分割为训练集和测试集\n",
    "from sklearn.model_selection import train_test_split\n",
    "X_train, X_test, y_train, y_test= train_test_split(B, Y2,test_size= 0.3,random_state=1)\n",
    "print('X训练集大小：',X_train.shape)\n",
    "print('X测试集大小：',X_test.shape)\n",
    "\n",
    "from sklearn.neural_network import MLPClassifier\n",
    "from sklearn.metrics import mean_squared_error\n",
    "from sklearn.preprocessing import StandardScaler\n",
    "scaler = StandardScaler()\n",
    "scaler.fit(X_train)\n",
    "X_train = scaler.transform(X_train)\n",
    "# 定义神经网络\n",
    "#clf = MLPClassifier(hidden_layer_sizes=(25,), random_state=0, max_iter=50,shuffle=True)\n",
    "BP= MLPClassifier(solver='lbfgs', activation='relu',alpha=1e-4,hidden_layer_sizes=(300), random_state=1,max_iter=100,verbose=10,learning_rate_init=.1)\n",
    "BP.fit(X_train, y_train)\n",
    "y_pred = BP.predict(X_train)\n",
    "mse = mean_squared_error(y_train, y_pred)\n",
    "print(mse)\n",
    "print(BP.score(X_train, y_train))\n",
    "scaler.fit(X_test)\n",
    "X_test = scaler.transform(X_test)\n",
    "y_test_pred =BP.predict(X_test)\n",
    "print(BP.score(X_test, y_test))"
   ]
  },
  {
   "cell_type": "code",
   "execution_count": 222,
   "metadata": {
    "ExecuteTime": {
     "end_time": "2021-10-15T17:52:47.766516Z",
     "start_time": "2021-10-15T17:52:47.761753Z"
    }
   },
   "outputs": [],
   "source": [
    "def demo_func():\n",
    "    factors = np.zeros(X_test.shape)\n",
    "    pred = BP.predict(X_test)\n",
    "    return pred"
   ]
  },
  {
   "cell_type": "code",
   "execution_count": 223,
   "metadata": {
    "ExecuteTime": {
     "end_time": "2021-10-15T17:52:48.867554Z",
     "start_time": "2021-10-15T17:52:48.854557Z"
    }
   },
   "outputs": [],
   "source": [
    "pred = demo_func()"
   ]
  },
  {
   "cell_type": "code",
   "execution_count": 224,
   "metadata": {
    "ExecuteTime": {
     "end_time": "2021-10-15T17:52:49.761620Z",
     "start_time": "2021-10-15T17:52:49.752610Z"
    }
   },
   "outputs": [
    {
     "data": {
      "text/plain": [
       "593"
      ]
     },
     "execution_count": 224,
     "metadata": {},
     "output_type": "execute_result"
    }
   ],
   "source": [
    "len(pred)"
   ]
  },
  {
   "cell_type": "code",
   "execution_count": 225,
   "metadata": {
    "ExecuteTime": {
     "end_time": "2021-10-15T17:52:51.120258Z",
     "start_time": "2021-10-15T17:52:51.090574Z"
    }
   },
   "outputs": [
    {
     "ename": "TypeError",
     "evalue": "'numpy.ndarray' object is not callable",
     "output_type": "error",
     "traceback": [
      "\u001b[0;31m---------------------------------------------------------------------------\u001b[0m",
      "\u001b[0;31mTypeError\u001b[0m                                 Traceback (most recent call last)",
      "\u001b[0;32m<ipython-input-225-f5e2d371f3a1>\u001b[0m in \u001b[0;36m<module>\u001b[0;34m()\u001b[0m\n\u001b[1;32m      1\u001b[0m \u001b[0mpop_num\u001b[0m \u001b[0;34m=\u001b[0m\u001b[0;36m593\u001b[0m \u001b[0;31m# 种群数量\u001b[0m\u001b[0;34m\u001b[0m\u001b[0;34m\u001b[0m\u001b[0m\n\u001b[1;32m      2\u001b[0m \u001b[0;32mimport\u001b[0m \u001b[0mnumpy\u001b[0m\u001b[0;34m\u001b[0m\u001b[0;34m\u001b[0m\u001b[0m\n\u001b[0;32m----> 3\u001b[0;31m \u001b[0mpso\u001b[0m \u001b[0;34m=\u001b[0m \u001b[0mPSO\u001b[0m\u001b[0;34m(\u001b[0m\u001b[0mdemo_func\u001b[0m\u001b[0;34m(\u001b[0m\u001b[0;34m)\u001b[0m\u001b[0;34m,\u001b[0m \u001b[0mdim\u001b[0m\u001b[0;34m=\u001b[0m\u001b[0;36m22\u001b[0m\u001b[0;34m,\u001b[0m \u001b[0mpop\u001b[0m\u001b[0;34m=\u001b[0m\u001b[0mpop_num\u001b[0m\u001b[0;34m,\u001b[0m \u001b[0mmax_iter\u001b[0m\u001b[0;34m=\u001b[0m\u001b[0;36m200\u001b[0m\u001b[0;34m,\u001b[0m \u001b[0mlb\u001b[0m\u001b[0;34m=\u001b[0m\u001b[0mlb\u001b[0m\u001b[0;34m,\u001b[0m \u001b[0mub\u001b[0m\u001b[0;34m=\u001b[0m\u001b[0mub\u001b[0m\u001b[0;34m,\u001b[0m \u001b[0mw\u001b[0m\u001b[0;34m=\u001b[0m\u001b[0;36m0.8\u001b[0m\u001b[0;34m,\u001b[0m \u001b[0mc1\u001b[0m\u001b[0;34m=\u001b[0m\u001b[0;36m0.5\u001b[0m\u001b[0;34m,\u001b[0m\u001b[0mc2\u001b[0m\u001b[0;34m=\u001b[0m\u001b[0;36m0.5\u001b[0m\u001b[0;34m)\u001b[0m\u001b[0;34m\u001b[0m\u001b[0;34m\u001b[0m\u001b[0m\n\u001b[0m\u001b[1;32m      4\u001b[0m \u001b[0mpso\u001b[0m\u001b[0;34m.\u001b[0m\u001b[0mrun\u001b[0m\u001b[0;34m(\u001b[0m\u001b[0;34m)\u001b[0m\u001b[0;34m\u001b[0m\u001b[0;34m\u001b[0m\u001b[0m\n",
      "\u001b[0;32m~/anaconda3/lib/python3.6/site-packages/sko/PSO.py\u001b[0m in \u001b[0;36m__init__\u001b[0;34m(self, func, n_dim, pop, max_iter, lb, ub, w, c1, c2, constraint_eq, constraint_ueq, verbose, dim)\u001b[0m\n\u001b[1;32m    104\u001b[0m         \u001b[0mv_high\u001b[0m \u001b[0;34m=\u001b[0m \u001b[0mself\u001b[0m\u001b[0;34m.\u001b[0m\u001b[0mub\u001b[0m \u001b[0;34m-\u001b[0m \u001b[0mself\u001b[0m\u001b[0;34m.\u001b[0m\u001b[0mlb\u001b[0m\u001b[0;34m\u001b[0m\u001b[0;34m\u001b[0m\u001b[0m\n\u001b[1;32m    105\u001b[0m         \u001b[0mself\u001b[0m\u001b[0;34m.\u001b[0m\u001b[0mV\u001b[0m \u001b[0;34m=\u001b[0m \u001b[0mnp\u001b[0m\u001b[0;34m.\u001b[0m\u001b[0mrandom\u001b[0m\u001b[0;34m.\u001b[0m\u001b[0muniform\u001b[0m\u001b[0;34m(\u001b[0m\u001b[0mlow\u001b[0m\u001b[0;34m=\u001b[0m\u001b[0;34m-\u001b[0m\u001b[0mv_high\u001b[0m\u001b[0;34m,\u001b[0m \u001b[0mhigh\u001b[0m\u001b[0;34m=\u001b[0m\u001b[0mv_high\u001b[0m\u001b[0;34m,\u001b[0m \u001b[0msize\u001b[0m\u001b[0;34m=\u001b[0m\u001b[0;34m(\u001b[0m\u001b[0mself\u001b[0m\u001b[0;34m.\u001b[0m\u001b[0mpop\u001b[0m\u001b[0;34m,\u001b[0m \u001b[0mself\u001b[0m\u001b[0;34m.\u001b[0m\u001b[0mn_dim\u001b[0m\u001b[0;34m)\u001b[0m\u001b[0;34m)\u001b[0m  \u001b[0;31m# speed of particles\u001b[0m\u001b[0;34m\u001b[0m\u001b[0;34m\u001b[0m\u001b[0m\n\u001b[0;32m--> 106\u001b[0;31m         \u001b[0mself\u001b[0m\u001b[0;34m.\u001b[0m\u001b[0mY\u001b[0m \u001b[0;34m=\u001b[0m \u001b[0mself\u001b[0m\u001b[0;34m.\u001b[0m\u001b[0mcal_y\u001b[0m\u001b[0;34m(\u001b[0m\u001b[0;34m)\u001b[0m  \u001b[0;31m# y = f(x) for all particles\u001b[0m\u001b[0;34m\u001b[0m\u001b[0;34m\u001b[0m\u001b[0m\n\u001b[0m\u001b[1;32m    107\u001b[0m         \u001b[0mself\u001b[0m\u001b[0;34m.\u001b[0m\u001b[0mpbest_x\u001b[0m \u001b[0;34m=\u001b[0m \u001b[0mself\u001b[0m\u001b[0;34m.\u001b[0m\u001b[0mX\u001b[0m\u001b[0;34m.\u001b[0m\u001b[0mcopy\u001b[0m\u001b[0;34m(\u001b[0m\u001b[0;34m)\u001b[0m  \u001b[0;31m# personal best location of every particle in history\u001b[0m\u001b[0;34m\u001b[0m\u001b[0;34m\u001b[0m\u001b[0m\n\u001b[1;32m    108\u001b[0m         \u001b[0mself\u001b[0m\u001b[0;34m.\u001b[0m\u001b[0mpbest_y\u001b[0m \u001b[0;34m=\u001b[0m \u001b[0mnp\u001b[0m\u001b[0;34m.\u001b[0m\u001b[0marray\u001b[0m\u001b[0;34m(\u001b[0m\u001b[0;34m[\u001b[0m\u001b[0;34m[\u001b[0m\u001b[0mnp\u001b[0m\u001b[0;34m.\u001b[0m\u001b[0minf\u001b[0m\u001b[0;34m]\u001b[0m\u001b[0;34m]\u001b[0m \u001b[0;34m*\u001b[0m \u001b[0mpop\u001b[0m\u001b[0;34m)\u001b[0m  \u001b[0;31m# best image of every particle in history\u001b[0m\u001b[0;34m\u001b[0m\u001b[0;34m\u001b[0m\u001b[0m\n",
      "\u001b[0;32m~/anaconda3/lib/python3.6/site-packages/sko/PSO.py\u001b[0m in \u001b[0;36mcal_y\u001b[0;34m(self)\u001b[0m\n\u001b[1;32m    137\u001b[0m     \u001b[0;32mdef\u001b[0m \u001b[0mcal_y\u001b[0m\u001b[0;34m(\u001b[0m\u001b[0mself\u001b[0m\u001b[0;34m)\u001b[0m\u001b[0;34m:\u001b[0m\u001b[0;34m\u001b[0m\u001b[0;34m\u001b[0m\u001b[0m\n\u001b[1;32m    138\u001b[0m         \u001b[0;31m# calculate y for every x in X\u001b[0m\u001b[0;34m\u001b[0m\u001b[0;34m\u001b[0m\u001b[0;34m\u001b[0m\u001b[0m\n\u001b[0;32m--> 139\u001b[0;31m         \u001b[0mself\u001b[0m\u001b[0;34m.\u001b[0m\u001b[0mY\u001b[0m \u001b[0;34m=\u001b[0m \u001b[0mself\u001b[0m\u001b[0;34m.\u001b[0m\u001b[0mfunc\u001b[0m\u001b[0;34m(\u001b[0m\u001b[0mself\u001b[0m\u001b[0;34m.\u001b[0m\u001b[0mX\u001b[0m\u001b[0;34m)\u001b[0m\u001b[0;34m.\u001b[0m\u001b[0mreshape\u001b[0m\u001b[0;34m(\u001b[0m\u001b[0;34m-\u001b[0m\u001b[0;36m1\u001b[0m\u001b[0;34m,\u001b[0m \u001b[0;36m1\u001b[0m\u001b[0;34m)\u001b[0m\u001b[0;34m\u001b[0m\u001b[0;34m\u001b[0m\u001b[0m\n\u001b[0m\u001b[1;32m    140\u001b[0m         \u001b[0;32mreturn\u001b[0m \u001b[0mself\u001b[0m\u001b[0;34m.\u001b[0m\u001b[0mY\u001b[0m\u001b[0;34m\u001b[0m\u001b[0;34m\u001b[0m\u001b[0m\n\u001b[1;32m    141\u001b[0m \u001b[0;34m\u001b[0m\u001b[0m\n",
      "\u001b[0;32m~/anaconda3/lib/python3.6/site-packages/sko/tools.py\u001b[0m in \u001b[0;36mfunc_transformed\u001b[0;34m(X)\u001b[0m\n\u001b[1;32m    111\u001b[0m     \u001b[0;32melse\u001b[0m\u001b[0;34m:\u001b[0m  \u001b[0;31m# common\u001b[0m\u001b[0;34m\u001b[0m\u001b[0;34m\u001b[0m\u001b[0m\n\u001b[1;32m    112\u001b[0m         \u001b[0;32mdef\u001b[0m \u001b[0mfunc_transformed\u001b[0m\u001b[0;34m(\u001b[0m\u001b[0mX\u001b[0m\u001b[0;34m)\u001b[0m\u001b[0;34m:\u001b[0m\u001b[0;34m\u001b[0m\u001b[0;34m\u001b[0m\u001b[0m\n\u001b[0;32m--> 113\u001b[0;31m             \u001b[0;32mreturn\u001b[0m \u001b[0mnp\u001b[0m\u001b[0;34m.\u001b[0m\u001b[0marray\u001b[0m\u001b[0;34m(\u001b[0m\u001b[0;34m[\u001b[0m\u001b[0mfunc\u001b[0m\u001b[0;34m(\u001b[0m\u001b[0mx\u001b[0m\u001b[0;34m)\u001b[0m \u001b[0;32mfor\u001b[0m \u001b[0mx\u001b[0m \u001b[0;32min\u001b[0m \u001b[0mX\u001b[0m\u001b[0;34m]\u001b[0m\u001b[0;34m)\u001b[0m\u001b[0;34m\u001b[0m\u001b[0;34m\u001b[0m\u001b[0m\n\u001b[0m\u001b[1;32m    114\u001b[0m \u001b[0;34m\u001b[0m\u001b[0m\n\u001b[1;32m    115\u001b[0m         \u001b[0;32mreturn\u001b[0m \u001b[0mfunc_transformed\u001b[0m\u001b[0;34m\u001b[0m\u001b[0;34m\u001b[0m\u001b[0m\n",
      "\u001b[0;32m~/anaconda3/lib/python3.6/site-packages/sko/tools.py\u001b[0m in \u001b[0;36m<listcomp>\u001b[0;34m(.0)\u001b[0m\n\u001b[1;32m    111\u001b[0m     \u001b[0;32melse\u001b[0m\u001b[0;34m:\u001b[0m  \u001b[0;31m# common\u001b[0m\u001b[0;34m\u001b[0m\u001b[0;34m\u001b[0m\u001b[0m\n\u001b[1;32m    112\u001b[0m         \u001b[0;32mdef\u001b[0m \u001b[0mfunc_transformed\u001b[0m\u001b[0;34m(\u001b[0m\u001b[0mX\u001b[0m\u001b[0;34m)\u001b[0m\u001b[0;34m:\u001b[0m\u001b[0;34m\u001b[0m\u001b[0;34m\u001b[0m\u001b[0m\n\u001b[0;32m--> 113\u001b[0;31m             \u001b[0;32mreturn\u001b[0m \u001b[0mnp\u001b[0m\u001b[0;34m.\u001b[0m\u001b[0marray\u001b[0m\u001b[0;34m(\u001b[0m\u001b[0;34m[\u001b[0m\u001b[0mfunc\u001b[0m\u001b[0;34m(\u001b[0m\u001b[0mx\u001b[0m\u001b[0;34m)\u001b[0m \u001b[0;32mfor\u001b[0m \u001b[0mx\u001b[0m \u001b[0;32min\u001b[0m \u001b[0mX\u001b[0m\u001b[0;34m]\u001b[0m\u001b[0;34m)\u001b[0m\u001b[0;34m\u001b[0m\u001b[0;34m\u001b[0m\u001b[0m\n\u001b[0m\u001b[1;32m    114\u001b[0m \u001b[0;34m\u001b[0m\u001b[0m\n\u001b[1;32m    115\u001b[0m         \u001b[0;32mreturn\u001b[0m \u001b[0mfunc_transformed\u001b[0m\u001b[0;34m\u001b[0m\u001b[0;34m\u001b[0m\u001b[0m\n",
      "\u001b[0;31mTypeError\u001b[0m: 'numpy.ndarray' object is not callable"
     ]
    }
   ],
   "source": [
    "pop_num =593 # 种群数量\n",
    "import numpy\n",
    "pso = PSO(demo_func(), dim=22, pop=pop_num, max_iter=200, lb=lb, ub=ub, w=0.8, c1=0.5,c2=0.5)\n",
    "pso.run()"
   ]
  },
  {
   "cell_type": "code",
   "execution_count": 205,
   "metadata": {
    "ExecuteTime": {
     "end_time": "2021-10-15T17:42:43.510637Z",
     "start_time": "2021-10-15T17:42:43.498289Z"
    }
   },
   "outputs": [
    {
     "name": "stdout",
     "output_type": "stream",
     "text": [
      "Help on class PSO in module sko.PSO:\n",
      "\n",
      "class PSO(sko.base.SkoBase)\n",
      " |  Do PSO (Particle swarm optimization) algorithm.\n",
      " |  \n",
      " |  This algorithm was adapted from the earlier works of J. Kennedy and\n",
      " |  R.C. Eberhart in Particle Swarm Optimization [IJCNN1995]_.\n",
      " |  \n",
      " |  The position update can be defined as:\n",
      " |  \n",
      " |  .. math::\n",
      " |  \n",
      " |     x_{i}(t+1) = x_{i}(t) + v_{i}(t+1)\n",
      " |  \n",
      " |  Where the position at the current step :math:`t` is updated using\n",
      " |  the computed velocity at :math:`t+1`. Furthermore, the velocity update\n",
      " |  is defined as:\n",
      " |  \n",
      " |  .. math::\n",
      " |  \n",
      " |     v_{ij}(t + 1) = w * v_{ij}(t) + c_{p}r_{1j}(t)[y_{ij}(t) − x_{ij}(t)]\n",
      " |                     + c_{g}r_{2j}(t)[\\hat{y}_{j}(t) − x_{ij}(t)]\n",
      " |  \n",
      " |  Here, :math:`cp` and :math:`cg` are the cognitive and social parameters\n",
      " |  respectively. They control the particle's behavior given two choices: (1) to\n",
      " |  follow its *personal best* or (2) follow the swarm's *global best* position.\n",
      " |  Overall, this dictates if the swarm is explorative or exploitative in nature.\n",
      " |  In addition, a parameter :math:`w` controls the inertia of the swarm's\n",
      " |  movement.\n",
      " |  \n",
      " |  .. [IJCNN1995] J. Kennedy and R.C. Eberhart, \"Particle Swarm Optimization,\"\n",
      " |  Proceedings of the IEEE International Joint Conference on Neural\n",
      " |  Networks, 1995, pp. 1942-1948.\n",
      " |  \n",
      " |  Parameters\n",
      " |  --------------------\n",
      " |  func : function\n",
      " |      The func you want to do optimal\n",
      " |  dim : int\n",
      " |      Number of dimension, which is number of parameters of func.\n",
      " |  pop : int\n",
      " |      Size of population, which is the number of Particles. We use 'pop' to keep accordance with GA\n",
      " |  max_iter : int\n",
      " |      Max of iter iterations\n",
      " |  lb : array_like\n",
      " |      The lower bound of every variables of func\n",
      " |  ub : array_like\n",
      " |      The upper bound of every variables of func\n",
      " |  constraint_eq : tuple\n",
      " |      equal constraint. Note: not available yet.\n",
      " |  constraint_ueq : tuple\n",
      " |      unequal constraint\n",
      " |  Attributes\n",
      " |  ----------------------\n",
      " |  pbest_x : array_like, shape is (pop,dim)\n",
      " |      best location of every particle in history\n",
      " |  pbest_y : array_like, shape is (pop,1)\n",
      " |      best image of every particle in history\n",
      " |  gbest_x : array_like, shape is (1,dim)\n",
      " |      general best location for all particles in history\n",
      " |  gbest_y : float\n",
      " |      general best image  for all particles in history\n",
      " |  gbest_y_hist : list\n",
      " |      gbest_y of every iteration\n",
      " |  \n",
      " |  \n",
      " |  Examples\n",
      " |  -----------------------------\n",
      " |  see https://scikit-opt.github.io/scikit-opt/#/en/README?id=_3-psoparticle-swarm-optimization\n",
      " |  \n",
      " |  Method resolution order:\n",
      " |      PSO\n",
      " |      sko.base.SkoBase\n",
      " |      builtins.object\n",
      " |  \n",
      " |  Methods defined here:\n",
      " |  \n",
      " |  __init__(self, func, n_dim=None, pop=40, max_iter=150, lb=-100000.0, ub=100000.0, w=0.8, c1=0.5, c2=0.5, constraint_eq=(), constraint_ueq=(), verbose=False, dim=None)\n",
      " |      Initialize self.  See help(type(self)) for accurate signature.\n",
      " |  \n",
      " |  cal_y(self)\n",
      " |  \n",
      " |  check_constraint(self, x)\n",
      " |  \n",
      " |  fit = run(self, max_iter=None, precision=1e-07, N=20)\n",
      " |  \n",
      " |  recorder(self)\n",
      " |  \n",
      " |  run(self, max_iter=None, precision=1e-07, N=20)\n",
      " |      precision: None or float\n",
      " |          If precision is None, it will run the number of max_iter steps\n",
      " |          If precision is a float, the loop will stop if continuous N difference between pbest less than precision\n",
      " |      N: int\n",
      " |  \n",
      " |  update_V(self)\n",
      " |  \n",
      " |  update_X(self)\n",
      " |  \n",
      " |  update_gbest(self)\n",
      " |      global best\n",
      " |      :return:\n",
      " |  \n",
      " |  update_pbest(self)\n",
      " |      personal best\n",
      " |      :return:\n",
      " |  \n",
      " |  ----------------------------------------------------------------------\n",
      " |  Data and other attributes defined here:\n",
      " |  \n",
      " |  __abstractmethods__ = frozenset()\n",
      " |  \n",
      " |  ----------------------------------------------------------------------\n",
      " |  Methods inherited from sko.base.SkoBase:\n",
      " |  \n",
      " |  register(self, operator_name, operator, *args, **kwargs)\n",
      " |      regeister udf to the class\n",
      " |      :param operator_name: string\n",
      " |      :param operator: a function, operator itself\n",
      " |      :param args: arg of operator\n",
      " |      :param kwargs: kwargs of operator\n",
      " |      :return:\n",
      " |  \n",
      " |  ----------------------------------------------------------------------\n",
      " |  Data descriptors inherited from sko.base.SkoBase:\n",
      " |  \n",
      " |  __dict__\n",
      " |      dictionary for instance variables (if defined)\n",
      " |  \n",
      " |  __weakref__\n",
      " |      list of weak references to the object (if defined)\n",
      "\n"
     ]
    }
   ],
   "source": [
    "help(PSO)"
   ]
  },
  {
   "cell_type": "code",
   "execution_count": 147,
   "metadata": {
    "ExecuteTime": {
     "end_time": "2021-10-15T17:22:58.794337Z",
     "start_time": "2021-10-15T17:22:58.785585Z"
    }
   },
   "outputs": [
    {
     "data": {
      "text/plain": [
       "(593, 22)"
      ]
     },
     "execution_count": 147,
     "metadata": {},
     "output_type": "execute_result"
    }
   ],
   "source": [
    "X_test.shape"
   ]
  },
  {
   "cell_type": "code",
   "execution_count": 213,
   "metadata": {
    "ExecuteTime": {
     "end_time": "2021-10-15T17:50:03.367921Z",
     "start_time": "2021-10-15T17:50:03.335211Z"
    }
   },
   "outputs": [],
   "source": [
    "for i in range(22):\n",
    "    lb[i]=min(np.transpose(B)[i])\n",
    "    ub[i]=max(np.transpose(B)[i])"
   ]
  },
  {
   "cell_type": "code",
   "execution_count": 214,
   "metadata": {
    "ExecuteTime": {
     "end_time": "2021-10-15T17:50:06.887848Z",
     "start_time": "2021-10-15T17:50:06.879983Z"
    }
   },
   "outputs": [
    {
     "data": {
      "text/plain": [
       "(22,)"
      ]
     },
     "execution_count": 214,
     "metadata": {},
     "output_type": "execute_result"
    }
   ],
   "source": [
    "ub.shape"
   ]
  },
  {
   "cell_type": "code",
   "execution_count": 215,
   "metadata": {
    "ExecuteTime": {
     "end_time": "2021-10-15T17:50:07.715517Z",
     "start_time": "2021-10-15T17:50:07.704333Z"
    }
   },
   "outputs": [
    {
     "data": {
      "text/plain": [
       "(22,)"
      ]
     },
     "execution_count": 215,
     "metadata": {},
     "output_type": "execute_result"
    }
   ],
   "source": [
    "lb.shape"
   ]
  }
 ],
 "metadata": {
  "kernelspec": {
   "display_name": "Python 3",
   "language": "python",
   "name": "python3"
  },
  "varInspector": {
   "cols": {
    "lenName": 16,
    "lenType": 16,
    "lenVar": 40
   },
   "kernels_config": {
    "python": {
     "delete_cmd_postfix": "",
     "delete_cmd_prefix": "del ",
     "library": "var_list.py",
     "varRefreshCmd": "print(var_dic_list())"
    },
    "r": {
     "delete_cmd_postfix": ") ",
     "delete_cmd_prefix": "rm(",
     "library": "var_list.r",
     "varRefreshCmd": "cat(var_dic_list()) "
    }
   },
   "types_to_exclude": [
    "module",
    "function",
    "builtin_function_or_method",
    "instance",
    "_Feature"
   ],
   "window_display": false
  }
 },
 "nbformat": 4,
 "nbformat_minor": 2
}
